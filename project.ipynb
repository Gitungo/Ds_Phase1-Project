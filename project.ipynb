{
 "cells": [
  {
   "cell_type": "markdown",
   "id": "207ffdd3",
   "metadata": {},
   "source": [
    "# Phase 1 Project"
   ]
  },
  {
   "cell_type": "markdown",
   "id": "3075273c",
   "metadata": {},
   "source": [
    " ### Overview"
   ]
  },
  {
   "cell_type": "markdown",
   "id": "2976b6c3",
   "metadata": {},
   "source": [
    "\n",
    "\n",
    "The Business Problem\n",
    "XYZ Company is looking to diversify its portfolio and is interested in purchasing aircrafts for commercial and private enterprises. Only that, being complete beginners in the industry, the company knows nothing about this business venture. My task is to identify which aircrafts present the lowest risk for the company to purchase and begin the venture.\n",
    "\n",
    "The problem statement\n",
    "1. Design and Technology\n",
    "* What aircraft makes offer the best return on safety for commercial and private operators?\n",
    "\n",
    "2. Operational Efficiency and Risk Management\n",
    "* How can XYZ company minimize risks associated with aircraft accidents? Can purchasing aircrafts with more engines or operating only on *good* weather reduce accident risks?\n",
    "\n",
    "\n",
    "3. \n",
    "\n",
    "\n",
    "\n"
   ]
  },
  {
   "cell_type": "markdown",
   "id": "7ec4052b",
   "metadata": {},
   "source": [
    "Questions\n",
    "\n",
    " Which make has the highest reliability rate? Based on:\n",
    "- Are not completely destroyed in the event an accident occurs.\n",
    "- Have the lowest fatality rates.\n",
    "- Which factors seem to be influencing accident rates? Is it scheduling vs unscheduling of flights? Weather conditions, or number of engines?\n",
    "- In which phases of flight are more accident-prone?"
   ]
  },
  {
   "cell_type": "markdown",
   "id": "21ddba65",
   "metadata": {},
   "source": [
    " ### Data Understanding"
   ]
  },
  {
   "cell_type": "markdown",
   "id": "0c2b328c",
   "metadata": {},
   "source": [
    "The dataset, titled **\"Aviation_Data\"**, contains historical records of aircraft accidents, including details such as the date, location, aircraft make,aircraft model, purpose of flight, total casualties (fatal,serious,minor and uninjured) among other information. The data spans across multiple decades and provides valuable insights into aviation safety patterns across different aircraft and flight types.\n",
    "\n",
    "This dataset will be used to explore trends in aviation accidents and identify factors associated with higher or lower accident severity, with the goal of improving business decisions.\n",
    "\n",
    "Without further a do, let's dive into the data and answer these questions."
   ]
  },
  {
   "cell_type": "markdown",
   "id": "1d771c5a",
   "metadata": {},
   "source": [
    "### Importing libraries and accessing the data"
   ]
  },
  {
   "cell_type": "code",
   "execution_count": 48,
   "id": "44dca1fa",
   "metadata": {},
   "outputs": [
    {
     "name": "stderr",
     "output_type": "stream",
     "text": [
      "<ipython-input-48-e3d0b64fc2b5>:6: DtypeWarning: Columns (6,7,28) have mixed types. Specify dtype option on import or set low_memory=False.\n",
      "  df = pd.read_csv(\"data\\Aviation_Data.csv\")\n"
     ]
    }
   ],
   "source": [
    "#importing the panda libraries i believe will be useful in reading the data and sifting through the data i'll need \n",
    "import pandas as pd\n",
    "import numpy as np\n",
    "import matplotlib.pyplot as plt\n",
    "import seaborn as sns\n",
    "df = pd.read_csv(\"data\\Aviation_Data.csv\")"
   ]
  },
  {
   "cell_type": "markdown",
   "id": "ca49a542",
   "metadata": {},
   "source": [
    "## Data Exploring & Analyis"
   ]
  },
  {
   "cell_type": "code",
   "execution_count": 49,
   "id": "4a3a1812",
   "metadata": {},
   "outputs": [
    {
     "name": "stdout",
     "output_type": "stream",
     "text": [
      "<class 'pandas.core.frame.DataFrame'>\n",
      "RangeIndex: 90348 entries, 0 to 90347\n",
      "Data columns (total 31 columns):\n",
      " #   Column                  Non-Null Count  Dtype  \n",
      "---  ------                  --------------  -----  \n",
      " 0   Event.Id                88889 non-null  object \n",
      " 1   Investigation.Type      90348 non-null  object \n",
      " 2   Accident.Number         88889 non-null  object \n",
      " 3   Event.Date              88889 non-null  object \n",
      " 4   Location                88837 non-null  object \n",
      " 5   Country                 88663 non-null  object \n",
      " 6   Latitude                34382 non-null  object \n",
      " 7   Longitude               34373 non-null  object \n",
      " 8   Airport.Code            50249 non-null  object \n",
      " 9   Airport.Name            52790 non-null  object \n",
      " 10  Injury.Severity         87889 non-null  object \n",
      " 11  Aircraft.damage         85695 non-null  object \n",
      " 12  Aircraft.Category       32287 non-null  object \n",
      " 13  Registration.Number     87572 non-null  object \n",
      " 14  Make                    88826 non-null  object \n",
      " 15  Model                   88797 non-null  object \n",
      " 16  Amateur.Built           88787 non-null  object \n",
      " 17  Number.of.Engines       82805 non-null  float64\n",
      " 18  Engine.Type             81812 non-null  object \n",
      " 19  FAR.Description         32023 non-null  object \n",
      " 20  Schedule                12582 non-null  object \n",
      " 21  Purpose.of.flight       82697 non-null  object \n",
      " 22  Air.carrier             16648 non-null  object \n",
      " 23  Total.Fatal.Injuries    77488 non-null  float64\n",
      " 24  Total.Serious.Injuries  76379 non-null  float64\n",
      " 25  Total.Minor.Injuries    76956 non-null  float64\n",
      " 26  Total.Uninjured         82977 non-null  float64\n",
      " 27  Weather.Condition       84397 non-null  object \n",
      " 28  Broad.phase.of.flight   61724 non-null  object \n",
      " 29  Report.Status           82508 non-null  object \n",
      " 30  Publication.Date        73659 non-null  object \n",
      "dtypes: float64(5), object(26)\n",
      "memory usage: 21.4+ MB\n"
     ]
    }
   ],
   "source": [
    "#Understanding the shape, column data types\n",
    "df.info()"
   ]
  },
  {
   "cell_type": "code",
   "execution_count": 50,
   "id": "91a21be9",
   "metadata": {},
   "outputs": [
    {
     "data": {
      "application/vnd.microsoft.datawrangler.viewer.v0+json": {
       "columns": [
        {
         "name": "index",
         "rawType": "object",
         "type": "string"
        },
        {
         "name": "Event.Id",
         "rawType": "object",
         "type": "string"
        },
        {
         "name": "Investigation.Type",
         "rawType": "object",
         "type": "string"
        },
        {
         "name": "Accident.Number",
         "rawType": "object",
         "type": "string"
        },
        {
         "name": "Event.Date",
         "rawType": "object",
         "type": "string"
        },
        {
         "name": "Location",
         "rawType": "object",
         "type": "string"
        },
        {
         "name": "Country",
         "rawType": "object",
         "type": "string"
        },
        {
         "name": "Latitude",
         "rawType": "object",
         "type": "string"
        },
        {
         "name": "Longitude",
         "rawType": "object",
         "type": "string"
        },
        {
         "name": "Airport.Code",
         "rawType": "object",
         "type": "string"
        },
        {
         "name": "Airport.Name",
         "rawType": "object",
         "type": "string"
        },
        {
         "name": "Injury.Severity",
         "rawType": "object",
         "type": "string"
        },
        {
         "name": "Aircraft.damage",
         "rawType": "object",
         "type": "string"
        },
        {
         "name": "Aircraft.Category",
         "rawType": "object",
         "type": "string"
        },
        {
         "name": "Registration.Number",
         "rawType": "object",
         "type": "string"
        },
        {
         "name": "Make",
         "rawType": "object",
         "type": "string"
        },
        {
         "name": "Model",
         "rawType": "object",
         "type": "string"
        },
        {
         "name": "Amateur.Built",
         "rawType": "object",
         "type": "string"
        },
        {
         "name": "Number.of.Engines",
         "rawType": "float64",
         "type": "float"
        },
        {
         "name": "Engine.Type",
         "rawType": "object",
         "type": "string"
        },
        {
         "name": "FAR.Description",
         "rawType": "object",
         "type": "string"
        },
        {
         "name": "Schedule",
         "rawType": "object",
         "type": "string"
        },
        {
         "name": "Purpose.of.flight",
         "rawType": "object",
         "type": "string"
        },
        {
         "name": "Air.carrier",
         "rawType": "object",
         "type": "string"
        },
        {
         "name": "Total.Fatal.Injuries",
         "rawType": "float64",
         "type": "float"
        },
        {
         "name": "Total.Serious.Injuries",
         "rawType": "float64",
         "type": "float"
        },
        {
         "name": "Total.Minor.Injuries",
         "rawType": "float64",
         "type": "float"
        },
        {
         "name": "Total.Uninjured",
         "rawType": "float64",
         "type": "float"
        },
        {
         "name": "Weather.Condition",
         "rawType": "object",
         "type": "string"
        },
        {
         "name": "Broad.phase.of.flight",
         "rawType": "object",
         "type": "string"
        },
        {
         "name": "Report.Status",
         "rawType": "object",
         "type": "string"
        },
        {
         "name": "Publication.Date",
         "rawType": "object",
         "type": "string"
        }
       ],
       "ref": "15e07216-3702-4397-be5c-cd3295d8847d",
       "rows": [
        [
         "count",
         "88889",
         "90348",
         "88889",
         "88889",
         "88837",
         "88663",
         "34382",
         "34373",
         "50249",
         "52790",
         "87889",
         "85695",
         "32287",
         "87572",
         "88826",
         "88797",
         "88787",
         "82805.0",
         "81812",
         "32023",
         "12582",
         "82697",
         "16648",
         "77488.0",
         "76379.0",
         "76956.0",
         "82977.0",
         "84397",
         "61724",
         "82508",
         "73659"
        ],
        [
         "unique",
         "87951",
         "71",
         "88863",
         "14782",
         "27758",
         "219",
         "25592",
         "27156",
         "10375",
         "24871",
         "109",
         "4",
         "15",
         "79105",
         "8237",
         "12318",
         "2",
         null,
         "13",
         "31",
         "3",
         "26",
         "13590",
         null,
         null,
         null,
         null,
         "4",
         "12",
         "17007",
         "2923"
        ],
        [
         "top",
         "20001212X19172",
         "Accident",
         "CEN22LA149",
         "1984-06-30",
         "ANCHORAGE, AK",
         "United States",
         "332739N",
         "0112457W",
         "NONE",
         "Private",
         "Non-Fatal",
         "Substantial",
         "Airplane",
         "NONE",
         "Cessna",
         "152",
         "No",
         null,
         "Reciprocating",
         "091",
         "NSCH",
         "Personal",
         "Pilot",
         null,
         null,
         null,
         null,
         "VMC",
         "Landing",
         "Probable Cause",
         "25-09-2020"
        ],
        [
         "freq",
         "3",
         "85015",
         "2",
         "25",
         "434",
         "82248",
         "19",
         "24",
         "1488",
         "240",
         "67357",
         "64148",
         "27617",
         "344",
         "22227",
         "2367",
         "80312",
         null,
         "69530",
         "18221",
         "4474",
         "49448",
         "258",
         null,
         null,
         null,
         null,
         "77303",
         "15428",
         "61754",
         "16317"
        ],
        [
         "mean",
         null,
         null,
         null,
         null,
         null,
         null,
         null,
         null,
         null,
         null,
         null,
         null,
         null,
         null,
         null,
         null,
         null,
         "1.1465853511261397",
         null,
         null,
         null,
         null,
         null,
         "0.6478551517654346",
         "0.27988059545162935",
         "0.3570611778158948",
         "5.325439579642552",
         null,
         null,
         null,
         null
        ],
        [
         "std",
         null,
         null,
         null,
         null,
         null,
         null,
         null,
         null,
         null,
         null,
         null,
         null,
         null,
         null,
         null,
         null,
         null,
         "0.4465102138196286",
         null,
         null,
         null,
         null,
         null,
         "5.485960107559197",
         "1.5440836452335867",
         "2.235625319656934",
         "27.913634431008564",
         null,
         null,
         null,
         null
        ],
        [
         "min",
         null,
         null,
         null,
         null,
         null,
         null,
         null,
         null,
         null,
         null,
         null,
         null,
         null,
         null,
         null,
         null,
         null,
         "0.0",
         null,
         null,
         null,
         null,
         null,
         "0.0",
         "0.0",
         "0.0",
         "0.0",
         null,
         null,
         null,
         null
        ],
        [
         "25%",
         null,
         null,
         null,
         null,
         null,
         null,
         null,
         null,
         null,
         null,
         null,
         null,
         null,
         null,
         null,
         null,
         null,
         "1.0",
         null,
         null,
         null,
         null,
         null,
         "0.0",
         "0.0",
         "0.0",
         "0.0",
         null,
         null,
         null,
         null
        ],
        [
         "50%",
         null,
         null,
         null,
         null,
         null,
         null,
         null,
         null,
         null,
         null,
         null,
         null,
         null,
         null,
         null,
         null,
         null,
         "1.0",
         null,
         null,
         null,
         null,
         null,
         "0.0",
         "0.0",
         "0.0",
         "1.0",
         null,
         null,
         null,
         null
        ],
        [
         "75%",
         null,
         null,
         null,
         null,
         null,
         null,
         null,
         null,
         null,
         null,
         null,
         null,
         null,
         null,
         null,
         null,
         null,
         "1.0",
         null,
         null,
         null,
         null,
         null,
         "0.0",
         "0.0",
         "0.0",
         "2.0",
         null,
         null,
         null,
         null
        ],
        [
         "max",
         null,
         null,
         null,
         null,
         null,
         null,
         null,
         null,
         null,
         null,
         null,
         null,
         null,
         null,
         null,
         null,
         null,
         "8.0",
         null,
         null,
         null,
         null,
         null,
         "349.0",
         "161.0",
         "380.0",
         "699.0",
         null,
         null,
         null,
         null
        ]
       ],
       "shape": {
        "columns": 31,
        "rows": 11
       }
      },
      "text/html": [
       "<div>\n",
       "<style scoped>\n",
       "    .dataframe tbody tr th:only-of-type {\n",
       "        vertical-align: middle;\n",
       "    }\n",
       "\n",
       "    .dataframe tbody tr th {\n",
       "        vertical-align: top;\n",
       "    }\n",
       "\n",
       "    .dataframe thead th {\n",
       "        text-align: right;\n",
       "    }\n",
       "</style>\n",
       "<table border=\"1\" class=\"dataframe\">\n",
       "  <thead>\n",
       "    <tr style=\"text-align: right;\">\n",
       "      <th></th>\n",
       "      <th>Event.Id</th>\n",
       "      <th>Investigation.Type</th>\n",
       "      <th>Accident.Number</th>\n",
       "      <th>Event.Date</th>\n",
       "      <th>Location</th>\n",
       "      <th>Country</th>\n",
       "      <th>Latitude</th>\n",
       "      <th>Longitude</th>\n",
       "      <th>Airport.Code</th>\n",
       "      <th>Airport.Name</th>\n",
       "      <th>...</th>\n",
       "      <th>Purpose.of.flight</th>\n",
       "      <th>Air.carrier</th>\n",
       "      <th>Total.Fatal.Injuries</th>\n",
       "      <th>Total.Serious.Injuries</th>\n",
       "      <th>Total.Minor.Injuries</th>\n",
       "      <th>Total.Uninjured</th>\n",
       "      <th>Weather.Condition</th>\n",
       "      <th>Broad.phase.of.flight</th>\n",
       "      <th>Report.Status</th>\n",
       "      <th>Publication.Date</th>\n",
       "    </tr>\n",
       "  </thead>\n",
       "  <tbody>\n",
       "    <tr>\n",
       "      <th>count</th>\n",
       "      <td>88889</td>\n",
       "      <td>90348</td>\n",
       "      <td>88889</td>\n",
       "      <td>88889</td>\n",
       "      <td>88837</td>\n",
       "      <td>88663</td>\n",
       "      <td>34382</td>\n",
       "      <td>34373</td>\n",
       "      <td>50249</td>\n",
       "      <td>52790</td>\n",
       "      <td>...</td>\n",
       "      <td>82697</td>\n",
       "      <td>16648</td>\n",
       "      <td>77488.000000</td>\n",
       "      <td>76379.000000</td>\n",
       "      <td>76956.000000</td>\n",
       "      <td>82977.000000</td>\n",
       "      <td>84397</td>\n",
       "      <td>61724</td>\n",
       "      <td>82508</td>\n",
       "      <td>73659</td>\n",
       "    </tr>\n",
       "    <tr>\n",
       "      <th>unique</th>\n",
       "      <td>87951</td>\n",
       "      <td>71</td>\n",
       "      <td>88863</td>\n",
       "      <td>14782</td>\n",
       "      <td>27758</td>\n",
       "      <td>219</td>\n",
       "      <td>25592</td>\n",
       "      <td>27156</td>\n",
       "      <td>10375</td>\n",
       "      <td>24871</td>\n",
       "      <td>...</td>\n",
       "      <td>26</td>\n",
       "      <td>13590</td>\n",
       "      <td>NaN</td>\n",
       "      <td>NaN</td>\n",
       "      <td>NaN</td>\n",
       "      <td>NaN</td>\n",
       "      <td>4</td>\n",
       "      <td>12</td>\n",
       "      <td>17007</td>\n",
       "      <td>2923</td>\n",
       "    </tr>\n",
       "    <tr>\n",
       "      <th>top</th>\n",
       "      <td>20001212X19172</td>\n",
       "      <td>Accident</td>\n",
       "      <td>CEN22LA149</td>\n",
       "      <td>1984-06-30</td>\n",
       "      <td>ANCHORAGE, AK</td>\n",
       "      <td>United States</td>\n",
       "      <td>332739N</td>\n",
       "      <td>0112457W</td>\n",
       "      <td>NONE</td>\n",
       "      <td>Private</td>\n",
       "      <td>...</td>\n",
       "      <td>Personal</td>\n",
       "      <td>Pilot</td>\n",
       "      <td>NaN</td>\n",
       "      <td>NaN</td>\n",
       "      <td>NaN</td>\n",
       "      <td>NaN</td>\n",
       "      <td>VMC</td>\n",
       "      <td>Landing</td>\n",
       "      <td>Probable Cause</td>\n",
       "      <td>25-09-2020</td>\n",
       "    </tr>\n",
       "    <tr>\n",
       "      <th>freq</th>\n",
       "      <td>3</td>\n",
       "      <td>85015</td>\n",
       "      <td>2</td>\n",
       "      <td>25</td>\n",
       "      <td>434</td>\n",
       "      <td>82248</td>\n",
       "      <td>19</td>\n",
       "      <td>24</td>\n",
       "      <td>1488</td>\n",
       "      <td>240</td>\n",
       "      <td>...</td>\n",
       "      <td>49448</td>\n",
       "      <td>258</td>\n",
       "      <td>NaN</td>\n",
       "      <td>NaN</td>\n",
       "      <td>NaN</td>\n",
       "      <td>NaN</td>\n",
       "      <td>77303</td>\n",
       "      <td>15428</td>\n",
       "      <td>61754</td>\n",
       "      <td>16317</td>\n",
       "    </tr>\n",
       "    <tr>\n",
       "      <th>mean</th>\n",
       "      <td>NaN</td>\n",
       "      <td>NaN</td>\n",
       "      <td>NaN</td>\n",
       "      <td>NaN</td>\n",
       "      <td>NaN</td>\n",
       "      <td>NaN</td>\n",
       "      <td>NaN</td>\n",
       "      <td>NaN</td>\n",
       "      <td>NaN</td>\n",
       "      <td>NaN</td>\n",
       "      <td>...</td>\n",
       "      <td>NaN</td>\n",
       "      <td>NaN</td>\n",
       "      <td>0.647855</td>\n",
       "      <td>0.279881</td>\n",
       "      <td>0.357061</td>\n",
       "      <td>5.325440</td>\n",
       "      <td>NaN</td>\n",
       "      <td>NaN</td>\n",
       "      <td>NaN</td>\n",
       "      <td>NaN</td>\n",
       "    </tr>\n",
       "    <tr>\n",
       "      <th>std</th>\n",
       "      <td>NaN</td>\n",
       "      <td>NaN</td>\n",
       "      <td>NaN</td>\n",
       "      <td>NaN</td>\n",
       "      <td>NaN</td>\n",
       "      <td>NaN</td>\n",
       "      <td>NaN</td>\n",
       "      <td>NaN</td>\n",
       "      <td>NaN</td>\n",
       "      <td>NaN</td>\n",
       "      <td>...</td>\n",
       "      <td>NaN</td>\n",
       "      <td>NaN</td>\n",
       "      <td>5.485960</td>\n",
       "      <td>1.544084</td>\n",
       "      <td>2.235625</td>\n",
       "      <td>27.913634</td>\n",
       "      <td>NaN</td>\n",
       "      <td>NaN</td>\n",
       "      <td>NaN</td>\n",
       "      <td>NaN</td>\n",
       "    </tr>\n",
       "    <tr>\n",
       "      <th>min</th>\n",
       "      <td>NaN</td>\n",
       "      <td>NaN</td>\n",
       "      <td>NaN</td>\n",
       "      <td>NaN</td>\n",
       "      <td>NaN</td>\n",
       "      <td>NaN</td>\n",
       "      <td>NaN</td>\n",
       "      <td>NaN</td>\n",
       "      <td>NaN</td>\n",
       "      <td>NaN</td>\n",
       "      <td>...</td>\n",
       "      <td>NaN</td>\n",
       "      <td>NaN</td>\n",
       "      <td>0.000000</td>\n",
       "      <td>0.000000</td>\n",
       "      <td>0.000000</td>\n",
       "      <td>0.000000</td>\n",
       "      <td>NaN</td>\n",
       "      <td>NaN</td>\n",
       "      <td>NaN</td>\n",
       "      <td>NaN</td>\n",
       "    </tr>\n",
       "    <tr>\n",
       "      <th>25%</th>\n",
       "      <td>NaN</td>\n",
       "      <td>NaN</td>\n",
       "      <td>NaN</td>\n",
       "      <td>NaN</td>\n",
       "      <td>NaN</td>\n",
       "      <td>NaN</td>\n",
       "      <td>NaN</td>\n",
       "      <td>NaN</td>\n",
       "      <td>NaN</td>\n",
       "      <td>NaN</td>\n",
       "      <td>...</td>\n",
       "      <td>NaN</td>\n",
       "      <td>NaN</td>\n",
       "      <td>0.000000</td>\n",
       "      <td>0.000000</td>\n",
       "      <td>0.000000</td>\n",
       "      <td>0.000000</td>\n",
       "      <td>NaN</td>\n",
       "      <td>NaN</td>\n",
       "      <td>NaN</td>\n",
       "      <td>NaN</td>\n",
       "    </tr>\n",
       "    <tr>\n",
       "      <th>50%</th>\n",
       "      <td>NaN</td>\n",
       "      <td>NaN</td>\n",
       "      <td>NaN</td>\n",
       "      <td>NaN</td>\n",
       "      <td>NaN</td>\n",
       "      <td>NaN</td>\n",
       "      <td>NaN</td>\n",
       "      <td>NaN</td>\n",
       "      <td>NaN</td>\n",
       "      <td>NaN</td>\n",
       "      <td>...</td>\n",
       "      <td>NaN</td>\n",
       "      <td>NaN</td>\n",
       "      <td>0.000000</td>\n",
       "      <td>0.000000</td>\n",
       "      <td>0.000000</td>\n",
       "      <td>1.000000</td>\n",
       "      <td>NaN</td>\n",
       "      <td>NaN</td>\n",
       "      <td>NaN</td>\n",
       "      <td>NaN</td>\n",
       "    </tr>\n",
       "    <tr>\n",
       "      <th>75%</th>\n",
       "      <td>NaN</td>\n",
       "      <td>NaN</td>\n",
       "      <td>NaN</td>\n",
       "      <td>NaN</td>\n",
       "      <td>NaN</td>\n",
       "      <td>NaN</td>\n",
       "      <td>NaN</td>\n",
       "      <td>NaN</td>\n",
       "      <td>NaN</td>\n",
       "      <td>NaN</td>\n",
       "      <td>...</td>\n",
       "      <td>NaN</td>\n",
       "      <td>NaN</td>\n",
       "      <td>0.000000</td>\n",
       "      <td>0.000000</td>\n",
       "      <td>0.000000</td>\n",
       "      <td>2.000000</td>\n",
       "      <td>NaN</td>\n",
       "      <td>NaN</td>\n",
       "      <td>NaN</td>\n",
       "      <td>NaN</td>\n",
       "    </tr>\n",
       "    <tr>\n",
       "      <th>max</th>\n",
       "      <td>NaN</td>\n",
       "      <td>NaN</td>\n",
       "      <td>NaN</td>\n",
       "      <td>NaN</td>\n",
       "      <td>NaN</td>\n",
       "      <td>NaN</td>\n",
       "      <td>NaN</td>\n",
       "      <td>NaN</td>\n",
       "      <td>NaN</td>\n",
       "      <td>NaN</td>\n",
       "      <td>...</td>\n",
       "      <td>NaN</td>\n",
       "      <td>NaN</td>\n",
       "      <td>349.000000</td>\n",
       "      <td>161.000000</td>\n",
       "      <td>380.000000</td>\n",
       "      <td>699.000000</td>\n",
       "      <td>NaN</td>\n",
       "      <td>NaN</td>\n",
       "      <td>NaN</td>\n",
       "      <td>NaN</td>\n",
       "    </tr>\n",
       "  </tbody>\n",
       "</table>\n",
       "<p>11 rows × 31 columns</p>\n",
       "</div>"
      ],
      "text/plain": [
       "              Event.Id Investigation.Type Accident.Number  Event.Date  \\\n",
       "count            88889              90348           88889       88889   \n",
       "unique           87951                 71           88863       14782   \n",
       "top     20001212X19172           Accident      CEN22LA149  1984-06-30   \n",
       "freq                 3              85015               2          25   \n",
       "mean               NaN                NaN             NaN         NaN   \n",
       "std                NaN                NaN             NaN         NaN   \n",
       "min                NaN                NaN             NaN         NaN   \n",
       "25%                NaN                NaN             NaN         NaN   \n",
       "50%                NaN                NaN             NaN         NaN   \n",
       "75%                NaN                NaN             NaN         NaN   \n",
       "max                NaN                NaN             NaN         NaN   \n",
       "\n",
       "             Location        Country Latitude Longitude Airport.Code  \\\n",
       "count           88837          88663    34382     34373        50249   \n",
       "unique          27758            219    25592     27156        10375   \n",
       "top     ANCHORAGE, AK  United States  332739N  0112457W         NONE   \n",
       "freq              434          82248       19        24         1488   \n",
       "mean              NaN            NaN      NaN       NaN          NaN   \n",
       "std               NaN            NaN      NaN       NaN          NaN   \n",
       "min               NaN            NaN      NaN       NaN          NaN   \n",
       "25%               NaN            NaN      NaN       NaN          NaN   \n",
       "50%               NaN            NaN      NaN       NaN          NaN   \n",
       "75%               NaN            NaN      NaN       NaN          NaN   \n",
       "max               NaN            NaN      NaN       NaN          NaN   \n",
       "\n",
       "       Airport.Name  ... Purpose.of.flight Air.carrier Total.Fatal.Injuries  \\\n",
       "count         52790  ...             82697       16648         77488.000000   \n",
       "unique        24871  ...                26       13590                  NaN   \n",
       "top         Private  ...          Personal       Pilot                  NaN   \n",
       "freq            240  ...             49448         258                  NaN   \n",
       "mean            NaN  ...               NaN         NaN             0.647855   \n",
       "std             NaN  ...               NaN         NaN             5.485960   \n",
       "min             NaN  ...               NaN         NaN             0.000000   \n",
       "25%             NaN  ...               NaN         NaN             0.000000   \n",
       "50%             NaN  ...               NaN         NaN             0.000000   \n",
       "75%             NaN  ...               NaN         NaN             0.000000   \n",
       "max             NaN  ...               NaN         NaN           349.000000   \n",
       "\n",
       "       Total.Serious.Injuries Total.Minor.Injuries Total.Uninjured  \\\n",
       "count            76379.000000         76956.000000    82977.000000   \n",
       "unique                    NaN                  NaN             NaN   \n",
       "top                       NaN                  NaN             NaN   \n",
       "freq                      NaN                  NaN             NaN   \n",
       "mean                 0.279881             0.357061        5.325440   \n",
       "std                  1.544084             2.235625       27.913634   \n",
       "min                  0.000000             0.000000        0.000000   \n",
       "25%                  0.000000             0.000000        0.000000   \n",
       "50%                  0.000000             0.000000        1.000000   \n",
       "75%                  0.000000             0.000000        2.000000   \n",
       "max                161.000000           380.000000      699.000000   \n",
       "\n",
       "       Weather.Condition  Broad.phase.of.flight   Report.Status  \\\n",
       "count              84397                  61724           82508   \n",
       "unique                 4                     12           17007   \n",
       "top                  VMC                Landing  Probable Cause   \n",
       "freq               77303                  15428           61754   \n",
       "mean                 NaN                    NaN             NaN   \n",
       "std                  NaN                    NaN             NaN   \n",
       "min                  NaN                    NaN             NaN   \n",
       "25%                  NaN                    NaN             NaN   \n",
       "50%                  NaN                    NaN             NaN   \n",
       "75%                  NaN                    NaN             NaN   \n",
       "max                  NaN                    NaN             NaN   \n",
       "\n",
       "       Publication.Date  \n",
       "count             73659  \n",
       "unique             2923  \n",
       "top          25-09-2020  \n",
       "freq              16317  \n",
       "mean                NaN  \n",
       "std                 NaN  \n",
       "min                 NaN  \n",
       "25%                 NaN  \n",
       "50%                 NaN  \n",
       "75%                 NaN  \n",
       "max                 NaN  \n",
       "\n",
       "[11 rows x 31 columns]"
      ]
     },
     "execution_count": 50,
     "metadata": {},
     "output_type": "execute_result"
    }
   ],
   "source": [
    "#let's now look at the summary distribution of the data\n",
    "df.describe(include=\"all\")"
   ]
  },
  {
   "cell_type": "code",
   "execution_count": 51,
   "id": "e485263b",
   "metadata": {},
   "outputs": [
    {
     "data": {
      "text/plain": [
       "1390"
      ]
     },
     "execution_count": 51,
     "metadata": {},
     "output_type": "execute_result"
    }
   ],
   "source": [
    "# i understand from the data structure that there are 31 columns; 26 having string data types and only 5 with float datatype\n",
    "# The rows are 90348 in total. Let's start by dropping duplicate entries first to cut down on the number of rows.\n",
    "df.duplicated().sum()\n"
   ]
  },
  {
   "cell_type": "code",
   "execution_count": 52,
   "id": "00bb5042",
   "metadata": {},
   "outputs": [
    {
     "data": {
      "text/plain": [
       "(88958, 31)"
      ]
     },
     "execution_count": 52,
     "metadata": {},
     "output_type": "execute_result"
    }
   ],
   "source": [
    "#ok. proceeding to drop these 1390 duplicate entries\n",
    "Cleaned_df = df.drop_duplicates()\n",
    "Cleaned_df.shape"
   ]
  },
  {
   "cell_type": "code",
   "execution_count": 53,
   "id": "1cb559af",
   "metadata": {},
   "outputs": [
    {
     "data": {
      "text/plain": [
       "0"
      ]
     },
     "execution_count": 53,
     "metadata": {},
     "output_type": "execute_result"
    }
   ],
   "source": [
    "#let's confirm that the duplicate values have been dropped.\n",
    "Cleaned_df.duplicated().sum()"
   ]
  },
  {
   "cell_type": "code",
   "execution_count": 54,
   "id": "809ac967",
   "metadata": {},
   "outputs": [],
   "source": [
    "#For purposes of que i need answered,i'm loading just the col i believe will be necessary moving forward\n",
    "Relevant_columns = [\"Event.Date\",\n",
    "                    \"Investigation.Type\",\n",
    "                    \"Country\",\n",
    "                    \"Aircraft.damage\",\n",
    "                    \"Aircraft.Category\",\n",
    "                    \"Make\",\n",
    "                    \"Model\",\n",
    "                    \"Amateur.Built\",\n",
    "                    \"Number.of.Engines\",\n",
    "                    \"Engine.Type\",\n",
    "                    \"Schedule\",\n",
    "                    \"Purpose.of.flight\",\n",
    "                    \"Total.Fatal.Injuries\",\n",
    "                    \"Total.Serious.Injuries\",\n",
    "                    \"Total.Minor.Injuries\",\n",
    "                    \"Total.Uninjured\",\n",
    "                    \"Weather.Condition\",\n",
    "                    \"Broad.phase.of.flight\"] "
   ]
  },
  {
   "cell_type": "code",
   "execution_count": 55,
   "id": "34f327c6",
   "metadata": {},
   "outputs": [
    {
     "data": {
      "application/vnd.microsoft.datawrangler.viewer.v0+json": {
       "columns": [
        {
         "name": "index",
         "rawType": "int64",
         "type": "integer"
        },
        {
         "name": "Event.Date",
         "rawType": "object",
         "type": "string"
        },
        {
         "name": "Investigation.Type",
         "rawType": "object",
         "type": "string"
        },
        {
         "name": "Country",
         "rawType": "object",
         "type": "string"
        },
        {
         "name": "Aircraft.damage",
         "rawType": "object",
         "type": "string"
        },
        {
         "name": "Aircraft.Category",
         "rawType": "object",
         "type": "string"
        },
        {
         "name": "Make",
         "rawType": "object",
         "type": "string"
        },
        {
         "name": "Model",
         "rawType": "object",
         "type": "string"
        },
        {
         "name": "Amateur.Built",
         "rawType": "object",
         "type": "string"
        },
        {
         "name": "Number.of.Engines",
         "rawType": "float64",
         "type": "float"
        },
        {
         "name": "Engine.Type",
         "rawType": "object",
         "type": "string"
        },
        {
         "name": "Schedule",
         "rawType": "object",
         "type": "string"
        },
        {
         "name": "Purpose.of.flight",
         "rawType": "object",
         "type": "string"
        },
        {
         "name": "Total.Fatal.Injuries",
         "rawType": "float64",
         "type": "float"
        },
        {
         "name": "Total.Serious.Injuries",
         "rawType": "float64",
         "type": "float"
        },
        {
         "name": "Total.Minor.Injuries",
         "rawType": "float64",
         "type": "float"
        },
        {
         "name": "Total.Uninjured",
         "rawType": "float64",
         "type": "float"
        },
        {
         "name": "Weather.Condition",
         "rawType": "object",
         "type": "string"
        },
        {
         "name": "Broad.phase.of.flight",
         "rawType": "object",
         "type": "string"
        }
       ],
       "ref": "d8e49d72-ec14-4724-8a2a-219e52b4a1ba",
       "rows": [
        [
         "0",
         "1948-10-24",
         "Accident",
         "United States",
         "Destroyed",
         null,
         "Stinson",
         "108-3",
         "No",
         "1.0",
         "Reciprocating",
         null,
         "Personal",
         "2.0",
         "0.0",
         "0.0",
         "0.0",
         "UNK",
         "Cruise"
        ],
        [
         "1",
         "1962-07-19",
         "Accident",
         "United States",
         "Destroyed",
         null,
         "Piper",
         "PA24-180",
         "No",
         "1.0",
         "Reciprocating",
         null,
         "Personal",
         "4.0",
         "0.0",
         "0.0",
         "0.0",
         "UNK",
         "Unknown"
        ],
        [
         "2",
         "1974-08-30",
         "Accident",
         "United States",
         "Destroyed",
         null,
         "Cessna",
         "172M",
         "No",
         "1.0",
         "Reciprocating",
         null,
         "Personal",
         "3.0",
         null,
         null,
         null,
         "IMC",
         "Cruise"
        ],
        [
         "3",
         "1977-06-19",
         "Accident",
         "United States",
         "Destroyed",
         null,
         "Rockwell",
         "112",
         "No",
         "1.0",
         "Reciprocating",
         null,
         "Personal",
         "2.0",
         "0.0",
         "0.0",
         "0.0",
         "IMC",
         "Cruise"
        ],
        [
         "4",
         "1979-08-02",
         "Accident",
         "United States",
         "Destroyed",
         null,
         "Cessna",
         "501",
         "No",
         null,
         null,
         null,
         "Personal",
         "1.0",
         "2.0",
         null,
         "0.0",
         "VMC",
         "Approach"
        ],
        [
         "5",
         "1979-09-17",
         "Accident",
         "United States",
         "Substantial",
         "Airplane",
         "Mcdonnell Douglas",
         "DC9",
         "No",
         "2.0",
         "Turbo Fan",
         "SCHD",
         null,
         null,
         null,
         "1.0",
         "44.0",
         "VMC",
         "Climb"
        ],
        [
         "6",
         "1981-08-01",
         "Accident",
         "United States",
         "Destroyed",
         null,
         "Cessna",
         "180",
         "No",
         "1.0",
         "Reciprocating",
         null,
         "Personal",
         "4.0",
         "0.0",
         "0.0",
         "0.0",
         "IMC",
         "Unknown"
        ],
        [
         "7",
         "1982-01-01",
         "Accident",
         "United States",
         "Substantial",
         "Airplane",
         "Cessna",
         "140",
         "No",
         "1.0",
         "Reciprocating",
         null,
         "Personal",
         "0.0",
         "0.0",
         "0.0",
         "2.0",
         "VMC",
         "Takeoff"
        ],
        [
         "8",
         "1982-01-01",
         "Accident",
         "United States",
         "Substantial",
         "Airplane",
         "Cessna",
         "401B",
         "No",
         "2.0",
         "Reciprocating",
         null,
         "Business",
         "0.0",
         "0.0",
         "0.0",
         "2.0",
         "IMC",
         "Landing"
        ],
        [
         "9",
         "1982-01-01",
         "Accident",
         "United States",
         "Substantial",
         null,
         "North American",
         "NAVION L-17B",
         "No",
         "1.0",
         "Reciprocating",
         null,
         "Personal",
         "0.0",
         "0.0",
         "3.0",
         "0.0",
         "IMC",
         "Cruise"
        ],
        [
         "10",
         "1982-01-01",
         "Accident",
         "United States",
         "Substantial",
         null,
         "Piper",
         "PA-28-161",
         "No",
         "1.0",
         "Reciprocating",
         null,
         "Personal",
         "0.0",
         "0.0",
         "0.0",
         "1.0",
         "VMC",
         "Approach"
        ],
        [
         "11",
         "1982-01-01",
         "Accident",
         "United States",
         "Substantial",
         null,
         "Beech",
         "V35B",
         "No",
         "1.0",
         "Reciprocating",
         null,
         "Personal",
         "0.0",
         "0.0",
         "0.0",
         "1.0",
         "VMC",
         "Landing"
        ],
        [
         "12",
         "1982-01-02",
         "Accident",
         "United States",
         "Destroyed",
         "Airplane",
         "Bellanca",
         "17-30A",
         "No",
         "1.0",
         "Reciprocating",
         null,
         "Personal",
         "0.0",
         "0.0",
         "1.0",
         "0.0",
         "IMC",
         "Cruise"
        ],
        [
         "13",
         "1982-01-02",
         "Accident",
         "United States",
         "Destroyed",
         "Airplane",
         "Cessna",
         "R172K",
         "No",
         "1.0",
         "Reciprocating",
         null,
         "Personal",
         "1.0",
         "0.0",
         "0.0",
         "0.0",
         "IMC",
         "Takeoff"
        ],
        [
         "14",
         "1982-01-02",
         "Accident",
         "United States",
         "Destroyed",
         "Airplane",
         "Navion",
         "A",
         "No",
         "1.0",
         "Reciprocating",
         null,
         "Personal",
         "1.0",
         "0.0",
         "0.0",
         "0.0",
         "IMC",
         "Cruise"
        ],
        [
         "15",
         "1982-01-02",
         "Accident",
         "United States",
         "Destroyed",
         "Airplane",
         "Beech",
         "19",
         "No",
         "1.0",
         "Reciprocating",
         null,
         "Personal",
         "2.0",
         "0.0",
         "0.0",
         "0.0",
         "IMC",
         "Cruise"
        ],
        [
         "16",
         "1982-01-02",
         "Accident",
         "United States",
         "Destroyed",
         "Helicopter",
         "Enstrom",
         "280C",
         "No",
         "1.0",
         "Reciprocating",
         null,
         "Personal",
         "0.0",
         "0.0",
         "0.0",
         "1.0",
         "IMC",
         "Taxi"
        ],
        [
         "17",
         "1982-01-02",
         "Accident",
         "United States",
         "Destroyed",
         "Airplane",
         "Cessna",
         "180",
         "No",
         "1.0",
         "Reciprocating",
         null,
         "Personal",
         "3.0",
         "0.0",
         "0.0",
         "0.0",
         "VMC",
         "Unknown"
        ],
        [
         "18",
         "1982-01-02",
         "Accident",
         "United States",
         "Substantial",
         "Airplane",
         "Cessna",
         "172",
         "No",
         "1.0",
         "Reciprocating",
         null,
         "Personal",
         "0.0",
         "0.0",
         "0.0",
         "1.0",
         "VMC",
         "Taxi"
        ],
        [
         "19",
         "1982-01-02",
         "Accident",
         "United States",
         "Substantial",
         "Helicopter",
         "Smith",
         "WCS-222 (BELL 47G)",
         "No",
         "1.0",
         "Reciprocating",
         null,
         "Personal",
         "0.0",
         "0.0",
         "0.0",
         "2.0",
         "VMC",
         "Cruise"
        ],
        [
         "20",
         "1982-01-02",
         "Accident",
         "United States",
         "Substantial",
         "Airplane",
         "Cessna",
         "152",
         "No",
         "1.0",
         "Reciprocating",
         null,
         "Instructional",
         "0.0",
         "0.0",
         "0.0",
         "1.0",
         "VMC",
         "Takeoff"
        ],
        [
         "21",
         "1982-01-02",
         "Accident",
         "United States",
         "Substantial",
         "Airplane",
         "Cessna",
         "150L",
         "No",
         "1.0",
         "Reciprocating",
         null,
         "Personal",
         "0.0",
         "0.0",
         "0.0",
         "2.0",
         "VMC",
         "Approach"
        ],
        [
         "22",
         "1982-01-02",
         "Accident",
         "United States",
         "Substantial",
         "Helicopter",
         "Bell",
         "206L-1",
         "No",
         "1.0",
         "Turbo Shaft",
         "NSCH",
         "Unknown",
         "0.0",
         "0.0",
         "0.0",
         "1.0",
         "VMC",
         "Approach"
        ],
        [
         "23",
         "1982-01-03",
         "Incident",
         "United States",
         "Minor",
         "Airplane",
         "Piper",
         "PA-24-180",
         "No",
         "1.0",
         "Reciprocating",
         null,
         "Personal",
         "0.0",
         "0.0",
         "0.0",
         "1.0",
         "VMC",
         "Approach"
        ],
        [
         "24",
         "1982-01-03",
         "Accident",
         "United States",
         "Destroyed",
         "Airplane",
         "Grumman",
         "AA-5B",
         "No",
         "1.0",
         "Reciprocating",
         null,
         "Personal",
         "2.0",
         "1.0",
         "0.0",
         "0.0",
         "IMC",
         "Descent"
        ],
        [
         "25",
         "1982-01-03",
         "Accident",
         "United States",
         "Destroyed",
         "Airplane",
         "Cessna",
         "414A",
         "No",
         "2.0",
         "Reciprocating",
         null,
         "Business",
         "8.0",
         "0.0",
         "0.0",
         "0.0",
         "IMC",
         "Approach"
        ],
        [
         "26",
         "1982-01-03",
         "Accident",
         "United States",
         "Destroyed",
         "Airplane",
         "Beechcraft",
         "BE-58",
         "No",
         "2.0",
         "Reciprocating",
         null,
         "Personal",
         "1.0",
         "0.0",
         "0.0",
         "0.0",
         "IMC",
         "Approach"
        ],
        [
         "27",
         "1982-01-03",
         "Accident",
         "United States",
         "Substantial",
         "Airplane",
         "Maule",
         "M-5-235C",
         "No",
         "1.0",
         "Reciprocating",
         null,
         "Personal",
         "0.0",
         "0.0",
         "0.0",
         "2.0",
         "VMC",
         "Landing"
        ],
        [
         "28",
         "1982-01-03",
         "Accident",
         "United States",
         "Substantial",
         "Airplane",
         "Cessna",
         "210L",
         "No",
         "1.0",
         "Reciprocating",
         null,
         "Personal",
         "0.0",
         "0.0",
         "1.0",
         "1.0",
         "VMC",
         "Descent"
        ],
        [
         "29",
         "1982-01-03",
         "Accident",
         "United States",
         "Substantial",
         "Airplane",
         "Bellanca",
         "7GCBC",
         "No",
         "1.0",
         "Reciprocating",
         null,
         "Personal",
         "0.0",
         "0.0",
         "2.0",
         "0.0",
         "VMC",
         "Maneuvering"
        ],
        [
         "30",
         "1982-01-03",
         "Accident",
         "United States",
         "Substantial",
         "Airplane",
         "Cessna",
         "182",
         "No",
         "1.0",
         "Reciprocating",
         null,
         "Personal",
         "0.0",
         "0.0",
         "2.0",
         "0.0",
         "VMC",
         "Approach"
        ],
        [
         "31",
         "1982-01-03",
         "Accident",
         "United States",
         "Substantial",
         "Airplane",
         "Air Tractor",
         "AT-301",
         "No",
         "1.0",
         "Reciprocating",
         null,
         "Ferry",
         "0.0",
         "0.0",
         "0.0",
         "1.0",
         "VMC",
         "Takeoff"
        ],
        [
         "32",
         "1982-01-04",
         "Accident",
         "United States",
         "Destroyed",
         "Airplane",
         "Piper",
         "PA-28-161",
         "No",
         "1.0",
         "Reciprocating",
         null,
         "Personal",
         "4.0",
         "0.0",
         "0.0",
         "0.0",
         "VMC",
         "Cruise"
        ],
        [
         "33",
         "1982-01-04",
         "Accident",
         "United States",
         "Destroyed",
         "Airplane",
         "Piper",
         "PA-34-200T",
         "No",
         "2.0",
         "Reciprocating",
         "NSCH",
         "Unknown",
         "2.0",
         "0.0",
         "0.0",
         "0.0",
         "VMC",
         "Cruise"
        ],
        [
         "34",
         "1982-01-04",
         "Accident",
         "United States",
         "Destroyed",
         "Airplane",
         "Cessna",
         "T337G",
         "No",
         "2.0",
         "Reciprocating",
         null,
         "Personal",
         "2.0",
         "2.0",
         "0.0",
         "0.0",
         "IMC",
         "Cruise"
        ],
        [
         "35",
         "1982-01-04",
         "Accident",
         "United States",
         "Substantial",
         "Airplane",
         "Piper",
         "PA-28R-200",
         "No",
         "1.0",
         "Reciprocating",
         null,
         "Personal",
         "0.0",
         "0.0",
         "2.0",
         "0.0",
         "VMC",
         "Cruise"
        ],
        [
         "36",
         "1982-01-04",
         "Accident",
         null,
         "Destroyed",
         "Airplane",
         "Cessna",
         "206",
         "No",
         "1.0",
         "Reciprocating",
         null,
         "Business",
         "1.0",
         "0.0",
         "1.0",
         "0.0",
         "VMC",
         "Taxi"
        ],
        [
         "37",
         "1982-01-05",
         "Accident",
         "United States",
         "Destroyed",
         "Airplane",
         "Navion",
         "A",
         "No",
         "1.0",
         "Reciprocating",
         null,
         "Business",
         "3.0",
         "0.0",
         "0.0",
         "0.0",
         "IMC",
         "Cruise"
        ],
        [
         "38",
         "1982-01-05",
         "Accident",
         "United States",
         "Destroyed",
         "Airplane",
         "Piper",
         "PA-22",
         "No",
         "1.0",
         "Reciprocating",
         null,
         "Personal",
         "1.0",
         "0.0",
         "0.0",
         "0.0",
         "IMC",
         "Cruise"
        ],
        [
         "39",
         "1982-01-05",
         "Accident",
         "United States",
         "Destroyed",
         "Airplane",
         "Piper",
         "PA-31",
         "No",
         "2.0",
         "Reciprocating",
         "SCHD",
         "Unknown",
         "2.0",
         "0.0",
         "0.0",
         "0.0",
         "VMC",
         "Approach"
        ],
        [
         "40",
         "1982-01-05",
         "Incident",
         "United States",
         "Minor",
         "Airplane",
         "Rockwell",
         "114",
         "No",
         "1.0",
         "Reciprocating",
         null,
         "Business",
         "0.0",
         "0.0",
         "0.0",
         "1.0",
         "VMC",
         "Cruise"
        ],
        [
         "41",
         "1982-01-05",
         "Accident",
         "United States",
         "Substantial",
         "Airplane",
         "Piper",
         "PA-24-250",
         "No",
         "1.0",
         "Reciprocating",
         null,
         "Business",
         "0.0",
         "1.0",
         "0.0",
         "1.0",
         "VMC",
         "Descent"
        ],
        [
         "42",
         "1982-01-05",
         "Accident",
         "United States",
         "Substantial",
         "Airplane",
         "Piper",
         "PA-28R-200",
         "No",
         "1.0",
         "Reciprocating",
         null,
         "Ferry",
         "0.0",
         "0.0",
         "0.0",
         "1.0",
         "VMC",
         "Cruise"
        ],
        [
         "43",
         "1982-01-05",
         "Accident",
         "United States",
         "Substantial",
         "Airplane",
         "Cessna",
         "TR182",
         "No",
         "1.0",
         "Reciprocating",
         "NSCH",
         "Unknown",
         "0.0",
         "0.0",
         "0.0",
         "1.0",
         "VMC",
         "Taxi"
        ],
        [
         "44",
         "1982-01-05",
         "Accident",
         "United States",
         "Substantial",
         "Airplane",
         "Cessna",
         "A185F",
         "No",
         "1.0",
         "Reciprocating",
         "NSCH",
         "Unknown",
         "0.0",
         "2.0",
         "0.0",
         "0.0",
         "VMC",
         "Takeoff"
        ],
        [
         "45",
         "1982-01-06",
         "Accident",
         "United States",
         "Substantial",
         "Airplane",
         "Cessna",
         "340",
         "Yes",
         "2.0",
         "Reciprocating",
         null,
         "Executive/corporate",
         "0.0",
         "0.0",
         "0.0",
         "3.0",
         "VMC",
         "Approach"
        ],
        [
         "46",
         "1982-01-06",
         "Accident",
         "United States",
         "Substantial",
         "Helicopter",
         "Aerospatiale",
         "SA-316B",
         "No",
         "1.0",
         "Turbo Shaft",
         null,
         "Business",
         "0.0",
         "0.0",
         "0.0",
         "6.0",
         "VMC",
         "Taxi"
        ],
        [
         "47",
         "1982-01-06",
         "Accident",
         "United States",
         "Substantial",
         "Airplane",
         "Beech",
         "35",
         "No",
         "1.0",
         "Reciprocating",
         null,
         "Personal",
         "0.0",
         "0.0",
         "0.0",
         "3.0",
         "VMC",
         "Climb"
        ],
        [
         "48",
         "1982-01-06",
         "Accident",
         "United States",
         "Substantial",
         "Airplane",
         "Cessna",
         "152",
         "No",
         "1.0",
         "Reciprocating",
         null,
         "Instructional",
         "0.0",
         "0.0",
         "0.0",
         "2.0",
         "VMC",
         "Approach"
        ],
        [
         "49",
         "1982-01-06",
         "Accident",
         "United States",
         "Substantial",
         "Airplane",
         "Mooney",
         "M-20J",
         "No",
         "1.0",
         "Reciprocating",
         null,
         "Business",
         "0.0",
         "0.0",
         "0.0",
         "2.0",
         "VMC",
         "Takeoff"
        ]
       ],
       "shape": {
        "columns": 18,
        "rows": 88958
       }
      },
      "text/html": [
       "<div>\n",
       "<style scoped>\n",
       "    .dataframe tbody tr th:only-of-type {\n",
       "        vertical-align: middle;\n",
       "    }\n",
       "\n",
       "    .dataframe tbody tr th {\n",
       "        vertical-align: top;\n",
       "    }\n",
       "\n",
       "    .dataframe thead th {\n",
       "        text-align: right;\n",
       "    }\n",
       "</style>\n",
       "<table border=\"1\" class=\"dataframe\">\n",
       "  <thead>\n",
       "    <tr style=\"text-align: right;\">\n",
       "      <th></th>\n",
       "      <th>Event.Date</th>\n",
       "      <th>Investigation.Type</th>\n",
       "      <th>Country</th>\n",
       "      <th>Aircraft.damage</th>\n",
       "      <th>Aircraft.Category</th>\n",
       "      <th>Make</th>\n",
       "      <th>Model</th>\n",
       "      <th>Amateur.Built</th>\n",
       "      <th>Number.of.Engines</th>\n",
       "      <th>Engine.Type</th>\n",
       "      <th>Schedule</th>\n",
       "      <th>Purpose.of.flight</th>\n",
       "      <th>Total.Fatal.Injuries</th>\n",
       "      <th>Total.Serious.Injuries</th>\n",
       "      <th>Total.Minor.Injuries</th>\n",
       "      <th>Total.Uninjured</th>\n",
       "      <th>Weather.Condition</th>\n",
       "      <th>Broad.phase.of.flight</th>\n",
       "    </tr>\n",
       "  </thead>\n",
       "  <tbody>\n",
       "    <tr>\n",
       "      <th>0</th>\n",
       "      <td>1948-10-24</td>\n",
       "      <td>Accident</td>\n",
       "      <td>United States</td>\n",
       "      <td>Destroyed</td>\n",
       "      <td>NaN</td>\n",
       "      <td>Stinson</td>\n",
       "      <td>108-3</td>\n",
       "      <td>No</td>\n",
       "      <td>1.0</td>\n",
       "      <td>Reciprocating</td>\n",
       "      <td>NaN</td>\n",
       "      <td>Personal</td>\n",
       "      <td>2.0</td>\n",
       "      <td>0.0</td>\n",
       "      <td>0.0</td>\n",
       "      <td>0.0</td>\n",
       "      <td>UNK</td>\n",
       "      <td>Cruise</td>\n",
       "    </tr>\n",
       "    <tr>\n",
       "      <th>1</th>\n",
       "      <td>1962-07-19</td>\n",
       "      <td>Accident</td>\n",
       "      <td>United States</td>\n",
       "      <td>Destroyed</td>\n",
       "      <td>NaN</td>\n",
       "      <td>Piper</td>\n",
       "      <td>PA24-180</td>\n",
       "      <td>No</td>\n",
       "      <td>1.0</td>\n",
       "      <td>Reciprocating</td>\n",
       "      <td>NaN</td>\n",
       "      <td>Personal</td>\n",
       "      <td>4.0</td>\n",
       "      <td>0.0</td>\n",
       "      <td>0.0</td>\n",
       "      <td>0.0</td>\n",
       "      <td>UNK</td>\n",
       "      <td>Unknown</td>\n",
       "    </tr>\n",
       "    <tr>\n",
       "      <th>2</th>\n",
       "      <td>1974-08-30</td>\n",
       "      <td>Accident</td>\n",
       "      <td>United States</td>\n",
       "      <td>Destroyed</td>\n",
       "      <td>NaN</td>\n",
       "      <td>Cessna</td>\n",
       "      <td>172M</td>\n",
       "      <td>No</td>\n",
       "      <td>1.0</td>\n",
       "      <td>Reciprocating</td>\n",
       "      <td>NaN</td>\n",
       "      <td>Personal</td>\n",
       "      <td>3.0</td>\n",
       "      <td>NaN</td>\n",
       "      <td>NaN</td>\n",
       "      <td>NaN</td>\n",
       "      <td>IMC</td>\n",
       "      <td>Cruise</td>\n",
       "    </tr>\n",
       "    <tr>\n",
       "      <th>3</th>\n",
       "      <td>1977-06-19</td>\n",
       "      <td>Accident</td>\n",
       "      <td>United States</td>\n",
       "      <td>Destroyed</td>\n",
       "      <td>NaN</td>\n",
       "      <td>Rockwell</td>\n",
       "      <td>112</td>\n",
       "      <td>No</td>\n",
       "      <td>1.0</td>\n",
       "      <td>Reciprocating</td>\n",
       "      <td>NaN</td>\n",
       "      <td>Personal</td>\n",
       "      <td>2.0</td>\n",
       "      <td>0.0</td>\n",
       "      <td>0.0</td>\n",
       "      <td>0.0</td>\n",
       "      <td>IMC</td>\n",
       "      <td>Cruise</td>\n",
       "    </tr>\n",
       "    <tr>\n",
       "      <th>4</th>\n",
       "      <td>1979-08-02</td>\n",
       "      <td>Accident</td>\n",
       "      <td>United States</td>\n",
       "      <td>Destroyed</td>\n",
       "      <td>NaN</td>\n",
       "      <td>Cessna</td>\n",
       "      <td>501</td>\n",
       "      <td>No</td>\n",
       "      <td>NaN</td>\n",
       "      <td>NaN</td>\n",
       "      <td>NaN</td>\n",
       "      <td>Personal</td>\n",
       "      <td>1.0</td>\n",
       "      <td>2.0</td>\n",
       "      <td>NaN</td>\n",
       "      <td>0.0</td>\n",
       "      <td>VMC</td>\n",
       "      <td>Approach</td>\n",
       "    </tr>\n",
       "    <tr>\n",
       "      <th>...</th>\n",
       "      <td>...</td>\n",
       "      <td>...</td>\n",
       "      <td>...</td>\n",
       "      <td>...</td>\n",
       "      <td>...</td>\n",
       "      <td>...</td>\n",
       "      <td>...</td>\n",
       "      <td>...</td>\n",
       "      <td>...</td>\n",
       "      <td>...</td>\n",
       "      <td>...</td>\n",
       "      <td>...</td>\n",
       "      <td>...</td>\n",
       "      <td>...</td>\n",
       "      <td>...</td>\n",
       "      <td>...</td>\n",
       "      <td>...</td>\n",
       "      <td>...</td>\n",
       "    </tr>\n",
       "    <tr>\n",
       "      <th>90343</th>\n",
       "      <td>2022-12-26</td>\n",
       "      <td>Accident</td>\n",
       "      <td>United States</td>\n",
       "      <td>NaN</td>\n",
       "      <td>NaN</td>\n",
       "      <td>PIPER</td>\n",
       "      <td>PA-28-151</td>\n",
       "      <td>No</td>\n",
       "      <td>NaN</td>\n",
       "      <td>NaN</td>\n",
       "      <td>NaN</td>\n",
       "      <td>Personal</td>\n",
       "      <td>0.0</td>\n",
       "      <td>1.0</td>\n",
       "      <td>0.0</td>\n",
       "      <td>0.0</td>\n",
       "      <td>NaN</td>\n",
       "      <td>NaN</td>\n",
       "    </tr>\n",
       "    <tr>\n",
       "      <th>90344</th>\n",
       "      <td>2022-12-26</td>\n",
       "      <td>Accident</td>\n",
       "      <td>United States</td>\n",
       "      <td>NaN</td>\n",
       "      <td>NaN</td>\n",
       "      <td>BELLANCA</td>\n",
       "      <td>7ECA</td>\n",
       "      <td>No</td>\n",
       "      <td>NaN</td>\n",
       "      <td>NaN</td>\n",
       "      <td>NaN</td>\n",
       "      <td>NaN</td>\n",
       "      <td>0.0</td>\n",
       "      <td>0.0</td>\n",
       "      <td>0.0</td>\n",
       "      <td>0.0</td>\n",
       "      <td>NaN</td>\n",
       "      <td>NaN</td>\n",
       "    </tr>\n",
       "    <tr>\n",
       "      <th>90345</th>\n",
       "      <td>2022-12-26</td>\n",
       "      <td>Accident</td>\n",
       "      <td>United States</td>\n",
       "      <td>Substantial</td>\n",
       "      <td>Airplane</td>\n",
       "      <td>AMERICAN CHAMPION AIRCRAFT</td>\n",
       "      <td>8GCBC</td>\n",
       "      <td>No</td>\n",
       "      <td>1.0</td>\n",
       "      <td>NaN</td>\n",
       "      <td>NaN</td>\n",
       "      <td>Personal</td>\n",
       "      <td>0.0</td>\n",
       "      <td>0.0</td>\n",
       "      <td>0.0</td>\n",
       "      <td>1.0</td>\n",
       "      <td>VMC</td>\n",
       "      <td>NaN</td>\n",
       "    </tr>\n",
       "    <tr>\n",
       "      <th>90346</th>\n",
       "      <td>2022-12-26</td>\n",
       "      <td>Accident</td>\n",
       "      <td>United States</td>\n",
       "      <td>NaN</td>\n",
       "      <td>NaN</td>\n",
       "      <td>CESSNA</td>\n",
       "      <td>210N</td>\n",
       "      <td>No</td>\n",
       "      <td>NaN</td>\n",
       "      <td>NaN</td>\n",
       "      <td>NaN</td>\n",
       "      <td>Personal</td>\n",
       "      <td>0.0</td>\n",
       "      <td>0.0</td>\n",
       "      <td>0.0</td>\n",
       "      <td>0.0</td>\n",
       "      <td>NaN</td>\n",
       "      <td>NaN</td>\n",
       "    </tr>\n",
       "    <tr>\n",
       "      <th>90347</th>\n",
       "      <td>2022-12-29</td>\n",
       "      <td>Accident</td>\n",
       "      <td>United States</td>\n",
       "      <td>NaN</td>\n",
       "      <td>NaN</td>\n",
       "      <td>PIPER</td>\n",
       "      <td>PA-24-260</td>\n",
       "      <td>No</td>\n",
       "      <td>NaN</td>\n",
       "      <td>NaN</td>\n",
       "      <td>NaN</td>\n",
       "      <td>Personal</td>\n",
       "      <td>0.0</td>\n",
       "      <td>1.0</td>\n",
       "      <td>0.0</td>\n",
       "      <td>1.0</td>\n",
       "      <td>NaN</td>\n",
       "      <td>NaN</td>\n",
       "    </tr>\n",
       "  </tbody>\n",
       "</table>\n",
       "<p>88958 rows × 18 columns</p>\n",
       "</div>"
      ],
      "text/plain": [
       "       Event.Date Investigation.Type        Country Aircraft.damage  \\\n",
       "0      1948-10-24           Accident  United States       Destroyed   \n",
       "1      1962-07-19           Accident  United States       Destroyed   \n",
       "2      1974-08-30           Accident  United States       Destroyed   \n",
       "3      1977-06-19           Accident  United States       Destroyed   \n",
       "4      1979-08-02           Accident  United States       Destroyed   \n",
       "...           ...                ...            ...             ...   \n",
       "90343  2022-12-26           Accident  United States             NaN   \n",
       "90344  2022-12-26           Accident  United States             NaN   \n",
       "90345  2022-12-26           Accident  United States     Substantial   \n",
       "90346  2022-12-26           Accident  United States             NaN   \n",
       "90347  2022-12-29           Accident  United States             NaN   \n",
       "\n",
       "      Aircraft.Category                        Make      Model Amateur.Built  \\\n",
       "0                   NaN                     Stinson      108-3            No   \n",
       "1                   NaN                       Piper   PA24-180            No   \n",
       "2                   NaN                      Cessna       172M            No   \n",
       "3                   NaN                    Rockwell        112            No   \n",
       "4                   NaN                      Cessna        501            No   \n",
       "...                 ...                         ...        ...           ...   \n",
       "90343               NaN                       PIPER  PA-28-151            No   \n",
       "90344               NaN                    BELLANCA       7ECA            No   \n",
       "90345          Airplane  AMERICAN CHAMPION AIRCRAFT      8GCBC            No   \n",
       "90346               NaN                      CESSNA       210N            No   \n",
       "90347               NaN                       PIPER  PA-24-260            No   \n",
       "\n",
       "       Number.of.Engines    Engine.Type Schedule Purpose.of.flight  \\\n",
       "0                    1.0  Reciprocating      NaN          Personal   \n",
       "1                    1.0  Reciprocating      NaN          Personal   \n",
       "2                    1.0  Reciprocating      NaN          Personal   \n",
       "3                    1.0  Reciprocating      NaN          Personal   \n",
       "4                    NaN            NaN      NaN          Personal   \n",
       "...                  ...            ...      ...               ...   \n",
       "90343                NaN            NaN      NaN          Personal   \n",
       "90344                NaN            NaN      NaN               NaN   \n",
       "90345                1.0            NaN      NaN          Personal   \n",
       "90346                NaN            NaN      NaN          Personal   \n",
       "90347                NaN            NaN      NaN          Personal   \n",
       "\n",
       "       Total.Fatal.Injuries  Total.Serious.Injuries  Total.Minor.Injuries  \\\n",
       "0                       2.0                     0.0                   0.0   \n",
       "1                       4.0                     0.0                   0.0   \n",
       "2                       3.0                     NaN                   NaN   \n",
       "3                       2.0                     0.0                   0.0   \n",
       "4                       1.0                     2.0                   NaN   \n",
       "...                     ...                     ...                   ...   \n",
       "90343                   0.0                     1.0                   0.0   \n",
       "90344                   0.0                     0.0                   0.0   \n",
       "90345                   0.0                     0.0                   0.0   \n",
       "90346                   0.0                     0.0                   0.0   \n",
       "90347                   0.0                     1.0                   0.0   \n",
       "\n",
       "       Total.Uninjured Weather.Condition Broad.phase.of.flight  \n",
       "0                  0.0               UNK                Cruise  \n",
       "1                  0.0               UNK               Unknown  \n",
       "2                  NaN               IMC                Cruise  \n",
       "3                  0.0               IMC                Cruise  \n",
       "4                  0.0               VMC              Approach  \n",
       "...                ...               ...                   ...  \n",
       "90343              0.0               NaN                   NaN  \n",
       "90344              0.0               NaN                   NaN  \n",
       "90345              1.0               VMC                   NaN  \n",
       "90346              0.0               NaN                   NaN  \n",
       "90347              1.0               NaN                   NaN  \n",
       "\n",
       "[88958 rows x 18 columns]"
      ]
     },
     "execution_count": 55,
     "metadata": {},
     "output_type": "execute_result"
    }
   ],
   "source": [
    "#selecting the relevant columns to use to answer the problem statements\n",
    "df2 = Cleaned_df[Relevant_columns]\n",
    "df2"
   ]
  },
  {
   "cell_type": "code",
   "execution_count": 56,
   "id": "c600b0e4",
   "metadata": {},
   "outputs": [
    {
     "data": {
      "application/vnd.microsoft.datawrangler.viewer.v0+json": {
       "columns": [
        {
         "name": "index",
         "rawType": "object",
         "type": "string"
        },
        {
         "name": "0",
         "rawType": "int64",
         "type": "integer"
        }
       ],
       "ref": "0b755c54-c6eb-4a4f-bc7c-b1a82e6b637b",
       "rows": [
        [
         "Event.Date",
         "69"
        ],
        [
         "Investigation.Type",
         "0"
        ],
        [
         "Country",
         "295"
        ],
        [
         "Aircraft.damage",
         "3263"
        ],
        [
         "Aircraft.Category",
         "56671"
        ],
        [
         "Make",
         "132"
        ],
        [
         "Model",
         "161"
        ],
        [
         "Amateur.Built",
         "171"
        ],
        [
         "Number.of.Engines",
         "6153"
        ],
        [
         "Engine.Type",
         "7146"
        ],
        [
         "Schedule",
         "76376"
        ],
        [
         "Purpose.of.flight",
         "6261"
        ],
        [
         "Total.Fatal.Injuries",
         "11470"
        ],
        [
         "Total.Serious.Injuries",
         "12579"
        ],
        [
         "Total.Minor.Injuries",
         "12002"
        ],
        [
         "Total.Uninjured",
         "5981"
        ],
        [
         "Weather.Condition",
         "4561"
        ],
        [
         "Broad.phase.of.flight",
         "27234"
        ]
       ],
       "shape": {
        "columns": 1,
        "rows": 18
       }
      },
      "text/plain": [
       "Event.Date                   69\n",
       "Investigation.Type            0\n",
       "Country                     295\n",
       "Aircraft.damage            3263\n",
       "Aircraft.Category         56671\n",
       "Make                        132\n",
       "Model                       161\n",
       "Amateur.Built               171\n",
       "Number.of.Engines          6153\n",
       "Engine.Type                7146\n",
       "Schedule                  76376\n",
       "Purpose.of.flight          6261\n",
       "Total.Fatal.Injuries      11470\n",
       "Total.Serious.Injuries    12579\n",
       "Total.Minor.Injuries      12002\n",
       "Total.Uninjured            5981\n",
       "Weather.Condition          4561\n",
       "Broad.phase.of.flight     27234\n",
       "dtype: int64"
      ]
     },
     "execution_count": 56,
     "metadata": {},
     "output_type": "execute_result"
    }
   ],
   "source": [
    "#Good! Let's now look at the missing values in each column in order to decide what to do with them.\n",
    "\n",
    "df2.isna().sum()"
   ]
  },
  {
   "cell_type": "markdown",
   "id": "f2cc15d2",
   "metadata": {},
   "source": [
    "### Handling missing values"
   ]
  },
  {
   "cell_type": "markdown",
   "id": "03df648b",
   "metadata": {},
   "source": [
    "For numerical columns (the ones listed below), i decided to use the median to fill in missing values\n",
    "- Number.of.Engines\n",
    "- Total.Fatal.Injuries\n",
    "- Total.Serious.Injuries\n",
    "- Total.Minor.Injuries\n",
    "- Total.Uninjured \n"
   ]
  },
  {
   "cell_type": "code",
   "execution_count": 57,
   "id": "dd803d3a",
   "metadata": {},
   "outputs": [
    {
     "name": "stderr",
     "output_type": "stream",
     "text": [
      "<ipython-input-57-a2e0c85d581e>:3: SettingWithCopyWarning: \n",
      "A value is trying to be set on a copy of a slice from a DataFrame.\n",
      "Try using .loc[row_indexer,col_indexer] = value instead\n",
      "\n",
      "See the caveats in the documentation: https://pandas.pydata.org/pandas-docs/stable/user_guide/indexing.html#returning-a-view-versus-a-copy\n",
      "  df2.iloc[:,12:16] = df2.iloc[:,12:16].fillna(df2.iloc[:,12:16].median())\n",
      "<ipython-input-57-a2e0c85d581e>:5: SettingWithCopyWarning: \n",
      "A value is trying to be set on a copy of a slice from a DataFrame.\n",
      "Try using .loc[row_indexer,col_indexer] = value instead\n",
      "\n",
      "See the caveats in the documentation: https://pandas.pydata.org/pandas-docs/stable/user_guide/indexing.html#returning-a-view-versus-a-copy\n",
      "  df2.iloc[:,8] = df2.iloc[:,8].fillna(df2.iloc[:,8].median())\n"
     ]
    }
   ],
   "source": [
    "#replace missing values in float columns with the median values using positional indexing of columns\n",
    "\n",
    "df2.iloc[:,12:16] = df2.iloc[:,12:16].fillna(df2.iloc[:,12:16].median()) \n",
    "#Also fill the 'Number of engines' empty values with the most recurring number\n",
    "df2.iloc[:,8] = df2.iloc[:,8].fillna(df2.iloc[:,8].median())"
   ]
  },
  {
   "cell_type": "markdown",
   "id": "4042c498",
   "metadata": {},
   "source": [
    "As for contecxtual data, i went with using the placeholder 'Unknown' for the following columns:\n",
    "- Aircraft.damage\n",
    "- Make\n",
    "- Model\n",
    "- Amateur.Built\n",
    "- Engine.Type\n",
    "- Purpose.of.flight\n",
    "- Broad.phase.of.flight\n",
    "As for the remain contextual data, use placeholder 'UNK' to fill in missing values\n",
    "- Schedule\n",
    "- Weather.Condition\n",
    "\n",
    "Lastly use forward fill method to fill in the blanks on column 'Aircraft Category' seeing as it has too many NaN values to be dropped or left as unknown. This is also applied on column 'Country' and 'Event.Date'."
   ]
  },
  {
   "cell_type": "code",
   "execution_count": 58,
   "id": "bf45cad4",
   "metadata": {},
   "outputs": [
    {
     "name": "stderr",
     "output_type": "stream",
     "text": [
      "<ipython-input-58-5b6231534f5d>:3: SettingWithCopyWarning: \n",
      "A value is trying to be set on a copy of a slice from a DataFrame.\n",
      "Try using .loc[row_indexer,col_indexer] = value instead\n",
      "\n",
      "See the caveats in the documentation: https://pandas.pydata.org/pandas-docs/stable/user_guide/indexing.html#returning-a-view-versus-a-copy\n",
      "  df2[Fillunknown_columns] = df2[Fillunknown_columns].fillna(value='Unknown')\n",
      "<ipython-input-58-5b6231534f5d>:6: SettingWithCopyWarning: \n",
      "A value is trying to be set on a copy of a slice from a DataFrame.\n",
      "Try using .loc[row_indexer,col_indexer] = value instead\n",
      "\n",
      "See the caveats in the documentation: https://pandas.pydata.org/pandas-docs/stable/user_guide/indexing.html#returning-a-view-versus-a-copy\n",
      "  df2[FillUNK_columns] = df2[FillUNK_columns].fillna(value = 'UNK')\n",
      "<ipython-input-58-5b6231534f5d>:10: SettingWithCopyWarning: \n",
      "A value is trying to be set on a copy of a slice from a DataFrame.\n",
      "Try using .loc[row_indexer,col_indexer] = value instead\n",
      "\n",
      "See the caveats in the documentation: https://pandas.pydata.org/pandas-docs/stable/user_guide/indexing.html#returning-a-view-versus-a-copy\n",
      "  df2[Fillffil_columns] = df2[Fillffil_columns].fillna(method='ffill')\n"
     ]
    }
   ],
   "source": [
    "#1st use 'Unknown' where applicable\n",
    "Fillunknown_columns = [\"Aircraft.damage\",\"Make\",\"Model\",\"Amateur.Built\",\"Engine.Type\",\"Purpose.of.flight\",\"Broad.phase.of.flight\"]\n",
    "df2[Fillunknown_columns] = df2[Fillunknown_columns].fillna(value='Unknown')\n",
    "#2nd use 'UNK' \n",
    "FillUNK_columns = [\"Schedule\",\"Weather.Condition\"]\n",
    "df2[FillUNK_columns] = df2[FillUNK_columns].fillna(value = 'UNK')\n",
    "#df2[FillUNK_columns].applymap(lambda x: 'UNK' if x == 'Unk' else x)\n",
    "#3rd use 'ffil'\n",
    "Fillffil_columns = [\"Country\",\"Aircraft.Category\",\"Event.Date\"]\n",
    "df2[Fillffil_columns] = df2[Fillffil_columns].fillna(method='ffill')"
   ]
  },
  {
   "cell_type": "code",
   "execution_count": 59,
   "id": "b5de96fe",
   "metadata": {},
   "outputs": [
    {
     "data": {
      "application/vnd.microsoft.datawrangler.viewer.v0+json": {
       "columns": [
        {
         "name": "index",
         "rawType": "object",
         "type": "string"
        },
        {
         "name": "0",
         "rawType": "int64",
         "type": "integer"
        }
       ],
       "ref": "e167445d-e1a3-4b64-9f48-39d363a7db96",
       "rows": [
        [
         "Event.Date",
         "0"
        ],
        [
         "Investigation.Type",
         "0"
        ],
        [
         "Country",
         "0"
        ],
        [
         "Aircraft.damage",
         "0"
        ],
        [
         "Aircraft.Category",
         "5"
        ],
        [
         "Make",
         "0"
        ],
        [
         "Model",
         "0"
        ],
        [
         "Amateur.Built",
         "0"
        ],
        [
         "Number.of.Engines",
         "0"
        ],
        [
         "Engine.Type",
         "0"
        ],
        [
         "Schedule",
         "0"
        ],
        [
         "Purpose.of.flight",
         "0"
        ],
        [
         "Total.Fatal.Injuries",
         "0"
        ],
        [
         "Total.Serious.Injuries",
         "0"
        ],
        [
         "Total.Minor.Injuries",
         "0"
        ],
        [
         "Total.Uninjured",
         "0"
        ],
        [
         "Weather.Condition",
         "0"
        ],
        [
         "Broad.phase.of.flight",
         "0"
        ]
       ],
       "shape": {
        "columns": 1,
        "rows": 18
       }
      },
      "text/plain": [
       "Event.Date                0\n",
       "Investigation.Type        0\n",
       "Country                   0\n",
       "Aircraft.damage           0\n",
       "Aircraft.Category         5\n",
       "Make                      0\n",
       "Model                     0\n",
       "Amateur.Built             0\n",
       "Number.of.Engines         0\n",
       "Engine.Type               0\n",
       "Schedule                  0\n",
       "Purpose.of.flight         0\n",
       "Total.Fatal.Injuries      0\n",
       "Total.Serious.Injuries    0\n",
       "Total.Minor.Injuries      0\n",
       "Total.Uninjured           0\n",
       "Weather.Condition         0\n",
       "Broad.phase.of.flight     0\n",
       "dtype: int64"
      ]
     },
     "execution_count": 59,
     "metadata": {},
     "output_type": "execute_result"
    }
   ],
   "source": [
    "#now check to see that the missing values have been replaced as expected\n",
    "df2.isna().sum()"
   ]
  },
  {
   "cell_type": "code",
   "execution_count": 60,
   "id": "378d883b",
   "metadata": {},
   "outputs": [],
   "source": [
    "#having significantly reduced the number of missing entries, we can now drop only the 5 rows that seem to be empty on the columns 'Aircraft.Category'\n",
    "df2 = df2.dropna()"
   ]
  },
  {
   "cell_type": "code",
   "execution_count": 61,
   "id": "130a99a1",
   "metadata": {},
   "outputs": [
    {
     "data": {
      "application/vnd.microsoft.datawrangler.viewer.v0+json": {
       "columns": [
        {
         "name": "index",
         "rawType": "object",
         "type": "string"
        },
        {
         "name": "0",
         "rawType": "int64",
         "type": "integer"
        }
       ],
       "ref": "4baf646a-0cee-4d80-a948-6fffb16a87b8",
       "rows": [
        [
         "Event.Date",
         "0"
        ],
        [
         "Investigation.Type",
         "0"
        ],
        [
         "Country",
         "0"
        ],
        [
         "Aircraft.damage",
         "0"
        ],
        [
         "Aircraft.Category",
         "0"
        ],
        [
         "Make",
         "0"
        ],
        [
         "Model",
         "0"
        ],
        [
         "Amateur.Built",
         "0"
        ],
        [
         "Number.of.Engines",
         "0"
        ],
        [
         "Engine.Type",
         "0"
        ],
        [
         "Schedule",
         "0"
        ],
        [
         "Purpose.of.flight",
         "0"
        ],
        [
         "Total.Fatal.Injuries",
         "0"
        ],
        [
         "Total.Serious.Injuries",
         "0"
        ],
        [
         "Total.Minor.Injuries",
         "0"
        ],
        [
         "Total.Uninjured",
         "0"
        ],
        [
         "Weather.Condition",
         "0"
        ],
        [
         "Broad.phase.of.flight",
         "0"
        ]
       ],
       "shape": {
        "columns": 1,
        "rows": 18
       }
      },
      "text/plain": [
       "Event.Date                0\n",
       "Investigation.Type        0\n",
       "Country                   0\n",
       "Aircraft.damage           0\n",
       "Aircraft.Category         0\n",
       "Make                      0\n",
       "Model                     0\n",
       "Amateur.Built             0\n",
       "Number.of.Engines         0\n",
       "Engine.Type               0\n",
       "Schedule                  0\n",
       "Purpose.of.flight         0\n",
       "Total.Fatal.Injuries      0\n",
       "Total.Serious.Injuries    0\n",
       "Total.Minor.Injuries      0\n",
       "Total.Uninjured           0\n",
       "Weather.Condition         0\n",
       "Broad.phase.of.flight     0\n",
       "dtype: int64"
      ]
     },
     "execution_count": 61,
     "metadata": {},
     "output_type": "execute_result"
    }
   ],
   "source": [
    "#check all columns do not have missing entries\n",
    "df2.isna().sum()"
   ]
  },
  {
   "cell_type": "markdown",
   "id": "946e11c2",
   "metadata": {},
   "source": [
    "Realizing that the data may have white spaces picked as data, i used the applymap function to fill any occuring instance of that."
   ]
  },
  {
   "cell_type": "code",
   "execution_count": 62,
   "id": "55da8d6d",
   "metadata": {},
   "outputs": [],
   "source": [
    "#checking if my data has any white spaces that could have been assumed to be data\n",
    "df2 = df2.applymap(lambda x: np.nan if isinstance(x, str) and x.strip() == \"\" else x)"
   ]
  },
  {
   "cell_type": "code",
   "execution_count": 63,
   "id": "8877fba9",
   "metadata": {},
   "outputs": [],
   "source": [
    "#Making sure that all the values in the numerical columns are numeric in nature\n",
    "numeric_columns = [\n",
    "    'Total.Fatal.Injuries', \n",
    "    'Total.Serious.Injuries', \n",
    "    'Total.Minor.Injuries', \n",
    "    'Total.Uninjured'\n",
    "]\n",
    "\n",
    "for col in numeric_columns:\n",
    "    df2[col] = pd.to_numeric(df2[col], errors='coerce')"
   ]
  },
  {
   "cell_type": "code",
   "execution_count": 64,
   "id": "755cc075",
   "metadata": {},
   "outputs": [
    {
     "data": {
      "application/vnd.microsoft.datawrangler.viewer.v0+json": {
       "columns": [
        {
         "name": "index",
         "rawType": "object",
         "type": "string"
        },
        {
         "name": "Investigation.Type",
         "rawType": "int64",
         "type": "integer"
        }
       ],
       "ref": "7a5e1b96-335e-4014-8152-d1897feeddbe",
       "rows": [
        [
         "Accident",
         "85010"
        ],
        [
         "Incident",
         "3874"
        ],
        [
         "15-12-2022",
         "1"
        ],
        [
         "05-01-2021",
         "1"
        ],
        [
         "17-12-2021",
         "1"
        ],
        [
         "16-11-2021",
         "1"
        ],
        [
         "19-10-2021",
         "1"
        ],
        [
         "16-07-2021",
         "1"
        ],
        [
         "20-09-2021",
         "1"
        ],
        [
         "22-09-2021",
         "1"
        ],
        [
         "20-08-2021",
         "1"
        ],
        [
         "08-12-2022",
         "1"
        ],
        [
         "08-11-2021",
         "1"
        ],
        [
         "26-08-2021",
         "1"
        ],
        [
         "29-01-2021",
         "1"
        ],
        [
         "26-01-2021",
         "1"
        ],
        [
         "05-04-2021",
         "1"
        ],
        [
         "04-03-2021",
         "1"
        ],
        [
         "14-06-2022",
         "1"
        ],
        [
         "22-06-2022",
         "1"
        ],
        [
         "31-08-2021",
         "1"
        ],
        [
         "03-11-2022",
         "1"
        ],
        [
         "13-07-2022",
         "1"
        ],
        [
         "05-07-2022",
         "1"
        ],
        [
         "01-09-2022",
         "1"
        ],
        [
         "12-08-2022",
         "1"
        ],
        [
         "08-09-2022",
         "1"
        ],
        [
         "22-09-2022",
         "1"
        ],
        [
         "01-11-2022",
         "1"
        ],
        [
         "01-07-2022",
         "1"
        ],
        [
         "20-07-2022",
         "1"
        ],
        [
         "06-10-2022",
         "1"
        ],
        [
         "23-09-2022",
         "1"
        ],
        [
         "02-12-2022",
         "1"
        ],
        [
         "05-08-2022",
         "1"
        ],
        [
         "13-10-2022",
         "1"
        ],
        [
         "06-01-2021",
         "1"
        ],
        [
         "13-12-2021",
         "1"
        ],
        [
         "07-12-2020",
         "1"
        ],
        [
         "14-12-2021",
         "1"
        ],
        [
         "10-06-2021",
         "1"
        ],
        [
         "13-09-2021",
         "1"
        ],
        [
         "04-08-2021",
         "1"
        ],
        [
         "19-11-2020",
         "1"
        ],
        [
         "06-05-2021",
         "1"
        ],
        [
         "03-12-2020",
         "1"
        ],
        [
         "11-02-2021",
         "1"
        ],
        [
         "05-05-2021",
         "1"
        ],
        [
         "02-02-2021",
         "1"
        ],
        [
         "24-02-2021",
         "1"
        ]
       ],
       "shape": {
        "columns": 1,
        "rows": 71
       }
      },
      "text/plain": [
       "Accident      85010\n",
       "Incident       3874\n",
       "15-12-2022        1\n",
       "05-01-2021        1\n",
       "17-12-2021        1\n",
       "              ...  \n",
       "29-09-2021        1\n",
       "28-01-2021        1\n",
       "20-10-2021        1\n",
       "11-12-2020        1\n",
       "20-12-2022        1\n",
       "Name: Investigation.Type, Length: 71, dtype: int64"
      ]
     },
     "execution_count": 64,
     "metadata": {},
     "output_type": "execute_result"
    }
   ],
   "source": [
    "#checking to see that the investigation type ought to be either an accident or an incident\n",
    "df2['Investigation.Type'].value_counts()"
   ]
  },
  {
   "cell_type": "code",
   "execution_count": 65,
   "id": "3b42b3fe",
   "metadata": {},
   "outputs": [],
   "source": [
    "#Modifing `df2` so that it only contains rows where 'Investigation.Type' is 'Accident'.\n",
    "df2 = df2[df2[\"Investigation.Type\"] == \"Accident\"]\n"
   ]
  },
  {
   "cell_type": "code",
   "execution_count": 66,
   "id": "7e636709",
   "metadata": {},
   "outputs": [
    {
     "data": {
      "application/vnd.microsoft.datawrangler.viewer.v0+json": {
       "columns": [
        {
         "name": "index",
         "rawType": "object",
         "type": "string"
        },
        {
         "name": "Aircraft.Category",
         "rawType": "int64",
         "type": "integer"
        }
       ],
       "ref": "4487e3f3-8d1f-4ab2-b571-13fefad92f0c",
       "rows": [
        [
         "Airplane",
         "73160"
        ],
        [
         "Helicopter",
         "9850"
        ],
        [
         "Glider",
         "1152"
        ],
        [
         "Balloon",
         "286"
        ],
        [
         "Gyrocraft",
         "216"
        ],
        [
         "Weight-Shift",
         "163"
        ],
        [
         "Powered Parachute",
         "91"
        ],
        [
         "Ultralight",
         "53"
        ],
        [
         "Unknown",
         "12"
        ],
        [
         "WSFT",
         "9"
        ],
        [
         "Powered-Lift",
         "8"
        ],
        [
         "Blimp",
         "6"
        ],
        [
         "UNK",
         "2"
        ],
        [
         "Rocket",
         "1"
        ],
        [
         "ULTR",
         "1"
        ]
       ],
       "shape": {
        "columns": 1,
        "rows": 15
       }
      },
      "text/plain": [
       "Airplane             73160\n",
       "Helicopter            9850\n",
       "Glider                1152\n",
       "Balloon                286\n",
       "Gyrocraft              216\n",
       "Weight-Shift           163\n",
       "Powered Parachute       91\n",
       "Ultralight              53\n",
       "Unknown                 12\n",
       "WSFT                     9\n",
       "Powered-Lift             8\n",
       "Blimp                    6\n",
       "UNK                      2\n",
       "Rocket                   1\n",
       "ULTR                     1\n",
       "Name: Aircraft.Category, dtype: int64"
      ]
     },
     "execution_count": 66,
     "metadata": {},
     "output_type": "execute_result"
    }
   ],
   "source": [
    "#Also, seeing as we only want to explore the dataset to help the business venture into commercial and private airplanes, let's drop the other categories that aren't airplanes.\n",
    "df2['Aircraft.Category'].value_counts()"
   ]
  },
  {
   "cell_type": "code",
   "execution_count": 67,
   "id": "120db601",
   "metadata": {},
   "outputs": [],
   "source": [
    "#df2 = df2[df2['Aircraft.Category'] == \"Airplane\"]"
   ]
  },
  {
   "cell_type": "markdown",
   "id": "7f587ef2",
   "metadata": {},
   "source": [
    "## Visualizing the cleaned data frame"
   ]
  },
  {
   "cell_type": "markdown",
   "id": "1bacda1a",
   "metadata": {},
   "source": [
    "The Exploratory Data Analysis (EDA) phase focuses on gaining insights into the structure, patterns, and relationships within the airline accidents dataset.  \n",
    "Through descriptive statistics and visual summaries, we aim to uncover trends that can inform safety and business decisions.\n",
    "\n",
    "## **The objectives**:\n",
    "1. Gain insight into which are the best types of commercial and private aircrafts to begin with based on:\n",
    "\n",
    "a. The number of **casualty rates** per year on airplanes \n",
    "\n",
    "b. The **severity of damage** of airplanes after accidents.\n",
    "\n",
    "c. The **make** that are less prone to accidents.\n",
    "\n",
    "2. How often do commercial vs private aircrafts experience accidents and what seem to be the typical causes of these accidents? \n",
    "\n",
    "a. Which factors seem to be influencing accident rates? Is it scheduling vs unscheduling of flights? Weather conditions, or number of engines?\n",
    "\n",
    "b. In which phases of flight are more accident-prone?\n",
    "\n"
   ]
  },
  {
   "cell_type": "code",
   "execution_count": 68,
   "id": "935b7d20",
   "metadata": {},
   "outputs": [],
   "source": [
    "# To ensure that the 'Event.Date' column is filled with a consistent date format\n",
    "df2[\"Event.Date\"] = pd.to_datetime(df2[\"Event.Date\"], errors='coerce')\n",
    "# Then from the date rows, extract just the year by creating a new column \"Year\" which we will aggregate\n",
    "df2[\"Year\"] = df2[\"Event.Date\"].dt.year\n",
    "# Now group the number of years together \n",
    "Accidents_per_yr = df2.groupby(\"Year\").size()\n",
    "# Now aggregate the total number of fatal,serious,minor and uninjured persons \n",
    "Fatal_casualties = df2.groupby(\"Year\")[\"Total.Fatal.Injuries\"].sum()\n",
    "Serious_casualties = df2.groupby(\"Year\")[\"Total.Serious.Injuries\"].sum()\n",
    "Minor_casualties = df2.groupby(\"Year\")[\"Total.Minor.Injuries\"].sum()\n",
    "Uninjured_persons = df2.groupby(\"Year\")[\"Total.Uninjured\"].sum()\n",
    "\n",
    "\n"
   ]
  },
  {
   "cell_type": "code",
   "execution_count": 69,
   "id": "f26a0de3",
   "metadata": {},
   "outputs": [
    {
     "data": {
      "image/png": "[encoded data removed]",
      "text/plain": [
       "<Figure size 1080x576 with 1 Axes>"
      ]
     },
     "metadata": {
      "needs_background": "light"
     },
     "output_type": "display_data"
    }
   ],
   "source": [
    "#plotting the data\n",
    "\n",
    "plt.figure(figsize=(15,8))\n",
    "plt.plot(Accidents_per_yr.index, Accidents_per_yr.values, label='Accidents per yr', marker='o')\n",
    "plt.plot(Fatal_casualties.index, Fatal_casualties.values, label='Fatal Casualties', marker='x')\n",
    "plt.plot(Serious_casualties.index, Serious_casualties.values, label='Serious Casualties', marker='x')\n",
    "plt.plot(Minor_casualties.index, Minor_casualties.values, label='Minor Casualties', marker='x')\n",
    "plt.title('Accidents Vs Fatal Casualties Over Time')\n",
    "plt.xlabel('Year')\n",
    "plt.ylabel('Number of Casualties')\n",
    "plt.legend()\n",
    "plt.grid(True)\n",
    "plt.show()"
   ]
  },
  {
   "cell_type": "markdown",
   "id": "e99a007f",
   "metadata": {},
   "source": [
    "## Interpretation/Understanding\n",
    "### Accidents across the years\n",
    "* Before 1980, the number of flight been boarded were significantly small or recording of this data had not been initiated yet. After which a sharp increase is recorded indicating active recording of information.\n",
    "* There seems to be a decline in the total number of casualties as the decades progress on indicating that techological improvements and risk mitigation measures seem to be improving across time.\n",
    "\n",
    "### Casualties Rates across the years\n",
    "*  The number of *Fatal* casualties across seems to correspond and distribute normally against the number of accidents that have occurred *except* between 1996 and 1997 where there seems to be a sharp increase in the number of fatalities which could indicate a certain make or model of airplane was introduced and didn't do so well. Further investigations will tell.\n",
    "* From around 2007, the number of *minor* injuries seems to have stabalized into the 2020s.\n"
   ]
  },
  {
   "cell_type": "markdown",
   "id": "bda0c48c",
   "metadata": {},
   "source": [
    "# \n",
    "Counting the extend of damage to an aircraft vs purpose of the aircrft will help the organization decide on which aircrafts are likely to be severly damaged after accidents."
   ]
  },
  {
   "cell_type": "code",
   "execution_count": 70,
   "id": "626ef497",
   "metadata": {},
   "outputs": [],
   "source": [
    "#List of purposes that do not meet business or private needs\n",
    "Purposes_drop = [\"Air Race show\",\"Air Race/show\",\"External Load\",\"ASHO\",\"PUBS\",\"Public Aircraft\",\"Public Aircraft - Federal\",\"Public Aircraft - State\",\"Public Aircraft - Local\"]\n",
    "#counting the number of 'Purpose.of.flight' and 'Aircraft.damage'\n",
    "Purposes = df2.groupby([\"Purpose.of.flight\",\"Aircraft.damage\"]).size().reset_index(name='Count')\n",
    "#dropping the purpose first\n",
    "Purposes_plot = Purposes[~Purposes[\"Purpose.of.flight\"].isin(Purposes_drop)]\n",
    " #pivot the data \n",
    "Airplane_Damage = Purposes_plot.pivot(index=\"Purpose.of.flight\",columns=\"Aircraft.damage\",values = \"Count\")\n",
    "# Changing how to plot order starting with the most extensive\n",
    "Airplane_Damage = Airplane_Damage[[\"Destroyed\",\"Substantial\",\"Minor\",\"Unknown\"]]\n"
   ]
  },
  {
   "cell_type": "code",
   "execution_count": 71,
   "id": "04ce72c3",
   "metadata": {},
   "outputs": [
    {
     "name": "stderr",
     "output_type": "stream",
     "text": [
      "No handles with labels found to put in legend.\n"
     ]
    },
    {
     "data": {
      "image/png": "[encoded data removed]",
      "text/plain": [
       "<Figure size 1080x576 with 2 Axes>"
      ]
     },
     "metadata": {
      "needs_background": "light"
     },
     "output_type": "display_data"
    }
   ],
   "source": [
    "#Now, to plot the count for aircraft damage extent vs the purposes of flights\n",
    "plt.figure(figsize=(15,8))\n",
    "sns.heatmap(Airplane_Damage,annot=True,fmt =\".0f\",cmap='Oranges_r')\n",
    "plt.title('Severity of Aircraft Damage based on Purposes of Flights')\n",
    "plt.xlabel('Total Aircraft Damage')\n",
    "plt.ylabel('Purpose of Flight')\n",
    "plt.legend()\n",
    "plt.grid(False)\n",
    "plt.show()"
   ]
  },
  {
   "cell_type": "code",
   "execution_count": 81,
   "id": "fcb02909",
   "metadata": {},
   "outputs": [
    {
     "data": {
      "application/vnd.microsoft.datawrangler.viewer.v0+json": {
       "columns": [
        {
         "name": "index",
         "rawType": "object",
         "type": "string"
        },
        {
         "name": "Purpose.of.flight",
         "rawType": "int64",
         "type": "integer"
        }
       ],
       "ref": "93bfced8-0f4f-4837-afd5-6c78fb6c8f38",
       "rows": [
        [
         "Personal",
         "49176"
        ],
        [
         "Instructional",
         "10475"
        ],
        [
         "Unknown",
         "9870"
        ],
        [
         "Aerial Application",
         "4704"
        ],
        [
         "Business",
         "3904"
        ],
        [
         "Positioning",
         "1561"
        ],
        [
         "Other Work Use",
         "1237"
        ],
        [
         "Aerial Observation",
         "791"
        ],
        [
         "Ferry",
         "787"
        ],
        [
         "Public Aircraft",
         "695"
        ],
        [
         "Executive/corporate",
         "503"
        ],
        [
         "Flight Test",
         "393"
        ],
        [
         "Skydiving",
         "181"
        ],
        [
         "External Load",
         "122"
        ],
        [
         "Public Aircraft - Federal",
         "103"
        ],
        [
         "Banner Tow",
         "101"
        ],
        [
         "Air Race show",
         "98"
        ],
        [
         "Public Aircraft - Local",
         "73"
        ],
        [
         "Public Aircraft - State",
         "62"
        ],
        [
         "Air Race/show",
         "59"
        ],
        [
         "Glider Tow",
         "53"
        ],
        [
         "Firefighting",
         "40"
        ],
        [
         "Air Drop",
         "11"
        ],
        [
         "ASHO",
         "6"
        ],
        [
         "PUBS",
         "4"
        ],
        [
         "PUBL",
         "1"
        ]
       ],
       "shape": {
        "columns": 1,
        "rows": 26
       }
      },
      "text/plain": [
       "Personal                     49176\n",
       "Instructional                10475\n",
       "Unknown                       9870\n",
       "Aerial Application            4704\n",
       "Business                      3904\n",
       "Positioning                   1561\n",
       "Other Work Use                1237\n",
       "Aerial Observation             791\n",
       "Ferry                          787\n",
       "Public Aircraft                695\n",
       "Executive/corporate            503\n",
       "Flight Test                    393\n",
       "Skydiving                      181\n",
       "External Load                  122\n",
       "Public Aircraft - Federal      103\n",
       "Banner Tow                     101\n",
       "Air Race show                   98\n",
       "Public Aircraft - Local         73\n",
       "Public Aircraft - State         62\n",
       "Air Race/show                   59\n",
       "Glider Tow                      53\n",
       "Firefighting                    40\n",
       "Air Drop                        11\n",
       "ASHO                             6\n",
       "PUBS                             4\n",
       "PUBL                             1\n",
       "Name: Purpose.of.flight, dtype: int64"
      ]
     },
     "execution_count": 81,
     "metadata": {},
     "output_type": "execute_result"
    }
   ],
   "source": [
    "df2[\"Purpose.of.flight\"].value_counts()"
   ]
  },
  {
   "cell_type": "markdown",
   "id": "98fa3a5b",
   "metadata": {},
   "source": [
    "## Interpretation/Understanding\n",
    "### Severity of accidents across different purpose aircrafts\n",
    "* Upon entering this business, it would not be advisable to purchase *personal aircrafts* as the data shows that they are barely recoverable when involved having the highest severity of damage. This could indicate that Personal aircrafts are not built to withstand accidents and would bring the company at a complete loss if accidents were to occur.\n",
    "* On the flip side, aircrafts such as those used for *Flight tests*,*Executive/Corporate travel* and *Aerial observation* could be an ideal start point as the company ventures into the business seeing as they incure minor damages on accidents and can be repaired instead of being replaced.\n"
   ]
  },
  {
   "cell_type": "markdown",
   "id": "009f9e2f",
   "metadata": {},
   "source": [
    "### The **make** that are less prone to accidents.\n",
    "Examining which aircraft makes are most frequently involved in accidents can provide insight into **operational risk exposure**.\n"
   ]
  },
  {
   "cell_type": "code",
   "execution_count": 72,
   "id": "e652878c",
   "metadata": {},
   "outputs": [
    {
     "data": {
      "application/vnd.microsoft.datawrangler.viewer.v0+json": {
       "columns": [
        {
         "name": "index",
         "rawType": "object",
         "type": "string"
        },
        {
         "name": "Make",
         "rawType": "int64",
         "type": "integer"
        }
       ],
       "ref": "8c57c432-3cbd-4fa8-a08e-e05c1f0390bc",
       "rows": [
        [
         "cessna",
         "26791"
        ],
        [
         "piper",
         "14683"
        ],
        [
         "beech",
         "5177"
        ],
        [
         "bell",
         "2662"
        ],
        [
         "boeing",
         "1362"
        ],
        [
         "mooney",
         "1311"
        ],
        [
         "robinson",
         "1219"
        ],
        [
         "grumman",
         "1158"
        ],
        [
         "bellanca",
         "1040"
        ],
        [
         "hughes",
         "925"
        ],
        [
         "schweizer",
         "770"
        ],
        [
         "air tractor",
         "689"
        ],
        [
         "aeronca",
         "633"
        ],
        [
         "maule",
         "587"
        ],
        [
         "champion",
         "517"
        ],
        [
         "stinson",
         "435"
        ],
        [
         "aero commander",
         "422"
        ],
        [
         "luscombe",
         "414"
        ],
        [
         "taylorcraft",
         "383"
        ],
        [
         "north american",
         "377"
        ],
        [
         "de havilland",
         "375"
        ],
        [
         "mcdonnell douglas",
         "361"
        ],
        [
         "aerospatiale",
         "356"
        ],
        [
         "rockwell",
         "347"
        ],
        [
         "hiller",
         "347"
        ],
        [
         "enstrom",
         "289"
        ],
        [
         "ayres",
         "237"
        ],
        [
         "robinson helicopter",
         "229"
        ],
        [
         "grumman american",
         "225"
        ],
        [
         "air tractor inc",
         "217"
        ],
        [
         "eurocopter",
         "213"
        ],
        [
         "cirrus design corp",
         "212"
        ],
        [
         "sikorsky",
         "210"
        ],
        [
         "douglas",
         "196"
        ],
        [
         "robinson helicopter company",
         "190"
        ],
        [
         "ercoupe (eng & research corp.)",
         "160"
        ],
        [
         "pitts",
         "154"
        ],
        [
         "embraer",
         "150"
        ],
        [
         "lake",
         "149"
        ],
        [
         "schleicher",
         "146"
        ],
        [
         "balloon works",
         "145"
        ],
        [
         "swearingen",
         "145"
        ],
        [
         "cirrus",
         "143"
        ],
        [
         "waco",
         "141"
        ],
        [
         "aviat",
         "139"
        ],
        [
         "let",
         "136"
        ],
        [
         "mitsubishi",
         "134"
        ],
        [
         "vans",
         "129"
        ],
        [
         "fairchild",
         "128"
        ],
        [
         "grumman-schweizer",
         "127"
        ]
       ],
       "shape": {
        "columns": 1,
        "rows": 7529
       }
      },
      "text/plain": [
       "cessna                 26791\n",
       "piper                  14683\n",
       "beech                   5177\n",
       "bell                    2662\n",
       "boeing                  1362\n",
       "                       ...  \n",
       "prudhomme                  1\n",
       "o'hara bob                 1\n",
       "quest ii walsh ltd.        1\n",
       "zielke                     1\n",
       "royse ralph l              1\n",
       "Name: Make, Length: 7529, dtype: int64"
      ]
     },
     "execution_count": 72,
     "metadata": {},
     "output_type": "execute_result"
    }
   ],
   "source": [
    "#Making the makes of airplanes uniform by looping through to standardize the names\n",
    "df2[\"Make\"] = df2[\"Make\"].apply(lambda x: x.lower())\n",
    "df2[\"Make\"].value_counts()"
   ]
  },
  {
   "cell_type": "code",
   "execution_count": 73,
   "id": "036781c4",
   "metadata": {},
   "outputs": [],
   "source": [
    "Aircraft_makes = df2[\"Make\"].value_counts(sort=True).head(20)\n"
   ]
  },
  {
   "cell_type": "code",
   "execution_count": 74,
   "id": "712723fe",
   "metadata": {},
   "outputs": [
    {
     "data": {
      "image/png": "[encoded data removed]",
      "text/plain": [
       "<Figure size 1080x576 with 1 Axes>"
      ]
     },
     "metadata": {
      "needs_background": "light"
     },
     "output_type": "display_data"
    }
   ],
   "source": [
    "#Find the top 20 aircrafts you'd recommend the comapny to consider purchasing based on the number of accidents they've been involved in\n",
    "plt.figure(figsize=(15,8))\n",
    "Aircraft_makes.plot(kind='bar', color='skyblue')\n",
    "plt.title('Top 20 Aircraft Makes by Accident Count')\n",
    "plt.ylabel('Accident Count')\n",
    "plt.xticks(rotation=45)\n",
    "plt.show()"
   ]
  },
  {
   "cell_type": "markdown",
   "id": "ef4fcae1",
   "metadata": {},
   "source": [
    "## Interpretation/Understanding\n",
    "### Aircraft Makes that are least likely to be involved in accidents\n",
    "* Based on the data shown, it would not be advisable to purchase *Cessna\" makes of airplanes are they have shown to have quite a number of accidents. This could be due to the make being the most produced making counterfit parts and substitues available in the market hence discrediting reliability of that authentic make.\n",
    "* On the other hand, it would be recommendable to purchase either of the following makes as the company ventures into this new market as they have shown to be less prone to accidents; in this order.\n",
    "    - Schweizer\n",
    "    - Maule\n",
    "    - stinson\n",
    "    - north american\n",
    "This could also mean that they are not readily made and would cost more to procure.\n",
    "\n",
    "This data can also be misleading seeing as the number of accidents an aircraft faces is proportionate to the number that are made."
   ]
  },
  {
   "cell_type": "markdown",
   "id": "b7e5046a",
   "metadata": {},
   "source": [
    "Que 2. How often do commercial and private aircrafts experience accidents and what seem to be the typical causes of these accidents? \n",
    "- Which factors seem to be influencing accident rates? Is it scheduling vs unscheduling of flights? Weather conditions, no.of engines?\n",
    "- In which phases of flight are more accident-prone?"
   ]
  },
  {
   "cell_type": "code",
   "execution_count": 75,
   "id": "06a4a2f3",
   "metadata": {},
   "outputs": [],
   "source": [
    "#Looking at number of accidents that take place during each weather category\n",
    "df2[\"Weather.Condition\"].value_counts()\n",
    "#Changing all to uppercase \n",
    "df2[\"Weather.Condition\"] = df2[\"Weather.Condition\"].apply(lambda x: x.upper())"
   ]
  },
  {
   "cell_type": "code",
   "execution_count": 76,
   "id": "2a7f6285",
   "metadata": {},
   "outputs": [
    {
     "data": {
      "application/vnd.microsoft.datawrangler.viewer.v0+json": {
       "columns": [
        {
         "name": "index",
         "rawType": "object",
         "type": "string"
        },
        {
         "name": "Weather.Condition",
         "rawType": "int64",
         "type": "integer"
        }
       ],
       "ref": "c3f9aa23-6eab-4de8-afd7-fd0beae5a1b0",
       "rows": [
        [
         "VMC",
         "75185"
        ],
        [
         "IMC",
         "5723"
        ],
        [
         "UNK",
         "4102"
        ]
       ],
       "shape": {
        "columns": 1,
        "rows": 3
       }
      },
      "text/plain": [
       "VMC    75185\n",
       "IMC     5723\n",
       "UNK     4102\n",
       "Name: Weather.Condition, dtype: int64"
      ]
     },
     "execution_count": 76,
     "metadata": {},
     "output_type": "execute_result"
    }
   ],
   "source": [
    "df2[\"Weather.Condition\"].value_counts()"
   ]
  },
  {
   "cell_type": "code",
   "execution_count": 77,
   "id": "4ea8fd1e",
   "metadata": {},
   "outputs": [
    {
     "data": {
      "application/vnd.microsoft.datawrangler.viewer.v0+json": {
       "columns": [
        {
         "name": "index",
         "rawType": "object",
         "type": "string"
        },
        {
         "name": "Schedule",
         "rawType": "int64",
         "type": "integer"
        }
       ],
       "ref": "28f02207-1411-4bde-b164-efd5fcc93f6a",
       "rows": [
        [
         "UNK",
         "78966"
        ],
        [
         "NSCH",
         "4028"
        ],
        [
         "SCHD",
         "2016"
        ]
       ],
       "shape": {
        "columns": 1,
        "rows": 3
       }
      },
      "text/plain": [
       "UNK     78966\n",
       "NSCH     4028\n",
       "SCHD     2016\n",
       "Name: Schedule, dtype: int64"
      ]
     },
     "execution_count": 77,
     "metadata": {},
     "output_type": "execute_result"
    }
   ],
   "source": [
    "df2[\"Schedule\"].value_counts()"
   ]
  },
  {
   "cell_type": "code",
   "execution_count": null,
   "id": "f036fc7c",
   "metadata": {},
   "outputs": [],
   "source": []
  },
  {
   "cell_type": "markdown",
   "id": "d540e655",
   "metadata": {},
   "source": [
    "### plotting the severity of the aircraft damage by weather \n",
    "This is to try and understand if the the weather conditions affect the severity of damage to the aircraft when an accident occurs.\n"
   ]
  },
  {
   "cell_type": "code",
   "execution_count": 78,
   "id": "a02744a5",
   "metadata": {},
   "outputs": [],
   "source": [
    "\n",
    "Weather = df2.groupby([\"Weather.Condition\",\"Aircraft.damage\"]).size().reset_index(name='Count')\n",
    "Weather_plot = Weather[~Weather[\"Weather.Condition\"].isin(Weather)]\n",
    " #pivot the data \n",
    "Airplane_Damage = Weather_plot.pivot(index=\"Weather.Condition\",columns=\"Aircraft.damage\",values = \"Count\")\n",
    "Airplane_Damage = Airplane_Damage[[\"Destroyed\",\"Substantial\",\"Minor\",\"Unknown\"]]\n"
   ]
  },
  {
   "cell_type": "code",
   "execution_count": 79,
   "id": "7340d129",
   "metadata": {},
   "outputs": [
    {
     "name": "stderr",
     "output_type": "stream",
     "text": [
      "No handles with labels found to put in legend.\n"
     ]
    },
    {
     "data": {
      "image/png": "[encoded data removed]",
      "text/plain": [
       "<Figure size 1080x576 with 2 Axes>"
      ]
     },
     "metadata": {
      "needs_background": "light"
     },
     "output_type": "display_data"
    }
   ],
   "source": [
    "plt.figure(figsize=(15,8))\n",
    "sns.heatmap(Airplane_Damage,annot=True,fmt =\".0f\",cmap='Greys')\n",
    "plt.title('Severity of Aircraft Damage based on Weather Conditions')\n",
    "plt.xlabel('Total Aircraft Damage')\n",
    "plt.ylabel('Weather Condition')\n",
    "plt.legend()\n",
    "plt.grid(False)\n",
    "plt.show()"
   ]
  },
  {
   "cell_type": "markdown",
   "id": "5b64f45b",
   "metadata": {},
   "source": [
    "## Interpretation/Understanding\n",
    "### Aircraft are less likely to be completely destroyed if the accidents occur in weather which pilots have sufficient visibility.\n",
    "* Based on the data shown, in the event that the weather conditions are adverse and pilots require instrumental aids to aid in visibility, then should an accident occur, chances of repairing the aircraft would be minimal seeing as it would be completely destroyed."
   ]
  },
  {
   "cell_type": "markdown",
   "id": "d356ef97",
   "metadata": {},
   "source": [
    "### What of the number of engines in poor weather conditions? Would this minimize the occurency of an accident?"
   ]
  },
  {
   "cell_type": "code",
   "execution_count": 80,
   "id": "acba108e",
   "metadata": {},
   "outputs": [
    {
     "name": "stderr",
     "output_type": "stream",
     "text": [
      "No handles with labels found to put in legend.\n"
     ]
    },
    {
     "data": {
      "image/png": "[encoded data removed]",
      "text/plain": [
       "<Figure size 1080x576 with 2 Axes>"
      ]
     },
     "metadata": {
      "needs_background": "light"
     },
     "output_type": "display_data"
    }
   ],
   "source": [
    "#Let's find out\n",
    "#pivot the data \n",
    "Engines_plot= df2.pivot_table(index=\"Weather.Condition\",columns=\"Number.of.Engines\",aggfunc='size',fill_value=0)\n",
    "plt.figure(figsize=(15,8))\n",
    "sns.heatmap(Engines_plot,annot=True,fmt =\".0f\",cmap='Purples_r')\n",
    "plt.title('Display no of engines for each weather condition')\n",
    "plt.xlabel('No.of engines')\n",
    "plt.ylabel('Weather condition')\n",
    "plt.legend()\n",
    "plt.grid(False)\n",
    "plt.show()"
   ]
  },
  {
   "cell_type": "markdown",
   "id": "a4a3ecea",
   "metadata": {},
   "source": [
    "## Interpretation/Understanding\n",
    "### Number of engines impact on the accident occurency with weather factored in.\n",
    "* We can see that the more the number of engines, the less the number of accidents across both unfavourable and favourable weather conditions.\n",
    "We can see that the airplanes with 1 engine have the highest occuring accidents inspite of there being favourable weather.\n",
    "\n",
    "** This is to conclude that the number of engines more likely affects the rate of accidents as compared to weather."
   ]
  },
  {
   "cell_type": "markdown",
   "id": "c9b7c308",
   "metadata": {},
   "source": [
    "## 4 Conclusion\n",
    "\n",
    "The analysis of historical airline accident data reveals several important insights that the stakeholders ought to consider before venturing into the business:\n",
    "\n",
    "1. **Significant Decline in Accidents Over Time**  \n",
    "   The frequency of accidents and the severity of the casualties has considerably been reducing since the 1970s. This is to show that there have been and continue to be major technological advancements and better risk mitigation measures put in place.The aviation industry continues to show promise and more risk mitiagtin measures will continue to be put in place.\n",
    "\n",
    "2. **Impact of accidents across differently purposed aircrafts**\n",
    "The number of accidents that plague personal aircrafts seem to be alarmingly high with most of those accidents rendering the aircrafts lost on occurence. Additionally, it appears that personal-use aircraft are becoming increasingly common on the market, which may suggest that their manufacturing processes are subject to comparatively less regulation and safety inspection.\n",
    "\n",
    "\n",
    "3. **Aircraft Make Trends Reflect Exposure/Occurrence, Not Necessarily Risk**  \n",
    "\n",
    "The data suggests that purchasing Cessna aircraft may not be advisable due to their higher accident rates, potentially linked to mass production and the circulation of counterfeit parts that undermine reliability. Conversely, makes such as Schweizer, Maule, Stinson, and North American appear to be safer options, though their limited availability may result in higher procurement costs.\n",
    "\n",
    "\n",
    "4. **Factors affecting aircraft accident rates**  \n",
    "   The findings indicate that aircraft fitted with multiple engines demonstrate a lower frequency of accidents across both favorable and adverse weather conditions. This trend suggests that engine configuration is a more critical determinant of accident occurrence than prevailing weather conditions, highlighting the role of engine redundancy in enhancing overall flight safety.\n",
    "\n"
   ]
  }
 ],
 "metadata": {
  "kernelspec": {
   "display_name": "learn-env",
   "language": "python",
   "name": "python3"
  },
  "language_info": {
   "codemirror_mode": {
    "name": "ipython",
    "version": 3
   },
   "file_extension": ".py",
   "mimetype": "text/x-python",
   "name": "python",
   "nbconvert_exporter": "python",
   "pygments_lexer": "ipython3",
   "version": "3.8.5"
  }
 },
 "nbformat": 4,
 "nbformat_minor": 5
}
